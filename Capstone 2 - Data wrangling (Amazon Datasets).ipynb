{
 "cells": [
  {
   "cell_type": "code",
   "execution_count": null,
   "metadata": {},
   "outputs": [],
   "source": [
    "import numpy as np\n",
    "import pandas as pd\n",
    "import json \n",
    "import gzip\n",
    "import random\n",
    "from pandas.io.json import json_normalize \n",
    "from urllib.request import urlopen"
   ]
  },
  {
   "cell_type": "code",
   "execution_count": null,
   "metadata": {},
   "outputs": [],
   "source": [
    "#Defining a function to select random samples from each dataset\n",
    "size = 5        # sample size\n",
    "replace = False  # No replacement\n",
    "fn = lambda obj: obj.loc[np.random.choice(obj.index, size, replace),:]"
   ]
  },
  {
   "cell_type": "code",
   "execution_count": null,
   "metadata": {
    "scrolled": true
   },
   "outputs": [],
   "source": [
    "# Turning json-file into pandas dataframe\n",
    "data = []\n",
    "with gzip.open('Grocery_and_Gourmet_Food.json.gz') as f:\n",
    "    for l in f:\n",
    "        data.append(json.loads(l.strip()))    \n",
    "Groceries = pd.DataFrame.from_dict(data)"
   ]
  },
  {
   "cell_type": "code",
   "execution_count": null,
   "metadata": {},
   "outputs": [],
   "source": [
    "#Groceries metadata to pandas dataframe\n",
    "data2 = []\n",
    "with gzip.open('Amazon_Datasets/meta_Grocery_and_Gourmet_Food.json.gz') as f:\n",
    "    for l in f:\n",
    "        data2.append(json.loads(l.strip()))\n",
    "Groceries_meta = pd.DataFrame.from_dict(data2)"
   ]
  },
  {
   "cell_type": "code",
   "execution_count": null,
   "metadata": {},
   "outputs": [],
   "source": [
    "Groceries_meta.to_csv('meta_groceries.csv')"
   ]
  },
  {
   "cell_type": "code",
   "execution_count": null,
   "metadata": {},
   "outputs": [],
   "source": [
    "#Merging grocery metadata with the Grocery reviews\n",
    "Groceries_merged = Groceries.merge(Groceries_meta, on = 'asin', how = 'left')"
   ]
  },
  {
   "cell_type": "code",
   "execution_count": null,
   "metadata": {},
   "outputs": [],
   "source": [
    "#Selecting products in Grocery dataset where there are at least 5 reviews\n",
    "b = Groceries_merged['asin'].value_counts() > 4\n",
    "Grocery_reviews = list(b[b].index)"
   ]
  },
  {
   "cell_type": "code",
   "execution_count": null,
   "metadata": {},
   "outputs": [],
   "source": [
    "grocery_sample = random.sample(Grocery_reviews, k = 3000)\n",
    "grocery_sample_df = Groceries_merged[Groceries_merged['asin'].isin(grocery_sample)]"
   ]
  },
  {
   "cell_type": "code",
   "execution_count": null,
   "metadata": {},
   "outputs": [],
   "source": [
    "grocery_products_df = grocery_sample_df.groupby('asin', as_index=False).apply(fn) #Taking a subsample of the group to limit reviews to 5\n",
    "grocery_products_df = grocery_products_df.reset_index() \n",
    "print(all(grocery_sample_df['asin'].value_counts() >= 5))"
   ]
  },
  {
   "cell_type": "code",
   "execution_count": null,
   "metadata": {},
   "outputs": [],
   "source": [
    "grocery_products_df['vote'] = grocery_products_df['vote'].fillna(0)\n",
    "grocery_products_df = grocery_products_df.drop(['level_0','level_1'], axis = 1)\n",
    "Grocery_df = grocery_products_df.drop(['image_x', 'image_y', 'fit','similar_item','tech1'], axis =1)\n",
    "Grocery_df.to_csv('Grocery_reviews.csv')"
   ]
  },
  {
   "cell_type": "code",
   "execution_count": null,
   "metadata": {},
   "outputs": [],
   "source": [
    "#Patio metadata\n",
    "data3 = []\n",
    "with gzip.open('Amazon_Datasets/meta_Patio_Lawn_and_Garden.json.gz') as f:\n",
    "    for l in f:\n",
    "        data3.append(json.loads(l.strip()))\n",
    "Patio_meta = pd.DataFrame.from_dict(data3)"
   ]
  },
  {
   "cell_type": "code",
   "execution_count": null,
   "metadata": {},
   "outputs": [],
   "source": [
    "Patio_meta.to_csv('meta_patio.csv')"
   ]
  },
  {
   "cell_type": "code",
   "execution_count": null,
   "metadata": {},
   "outputs": [],
   "source": [
    "#Patio data \n",
    "data4 = []\n",
    "with gzip.open('Patio_Lawn_and_Garden.json.gz') as f:\n",
    "    for l in f:\n",
    "        data4.append(json.loads(l.strip()))\n",
    "Patio = pd.DataFrame.from_dict(data4)"
   ]
  },
  {
   "cell_type": "code",
   "execution_count": null,
   "metadata": {},
   "outputs": [],
   "source": [
    "#Merging patio metadata with patio reviews\n",
    "Patio_merged = Patio.merge(Patio_meta, on = 'asin', how = 'left')"
   ]
  },
  {
   "cell_type": "code",
   "execution_count": null,
   "metadata": {},
   "outputs": [],
   "source": [
    "#Selecting products in Patio dataset where there are at least 5 reviews\n",
    "a = Patio_merged['asin'].value_counts() > 4\n",
    "Patio_reviews = list(a[a].index)"
   ]
  },
  {
   "cell_type": "code",
   "execution_count": null,
   "metadata": {},
   "outputs": [],
   "source": [
    "patio_sample = random.sample(Patio_reviews, k = 3000)\n",
    "patio_sample_df = Patio_merged[Patio_merged['asin'].isin(patio_sample)]"
   ]
  },
  {
   "cell_type": "code",
   "execution_count": null,
   "metadata": {},
   "outputs": [],
   "source": [
    "patio_products_df = patio_sample_df.groupby('asin', as_index=False).apply(fn) #Taking a subsample of only 5 reviews per product\n",
    "patio_products_df = patio_products_df.reset_index()\n",
    "print(all(patio_products_df['asin'].value_counts() >= 5))"
   ]
  },
  {
   "cell_type": "code",
   "execution_count": null,
   "metadata": {},
   "outputs": [],
   "source": [
    "#Additional cleaning - filling in NA values and removing useless columns \n",
    "patio_products_df['vote'] = patio_products_df['vote'].fillna(0)\n",
    "patio_products_df = patio_products_df.drop(['level_0','level_1'], axis = 1)\n",
    "Patio_df = patio_products_df.drop(['image_x', 'image_y', 'fit','similar_item','tech1'], axis = 1)\n",
    "Patio_df.to_csv('Patio_reviews.csv')"
   ]
  },
  {
   "cell_type": "code",
   "execution_count": null,
   "metadata": {},
   "outputs": [],
   "source": [
    "#Digital Music data to pandas dataframe\n",
    "data5 = []\n",
    "with gzip.open('Digital_Music.json.gz') as f:\n",
    "    for l in f:\n",
    "        data5.append(json.loads(l.strip()))\n",
    "Digital_music = pd.DataFrame.from_dict(data5)"
   ]
  },
  {
   "cell_type": "code",
   "execution_count": null,
   "metadata": {},
   "outputs": [],
   "source": [
    "data6 = []\n",
    "with gzip.open('Amazon_Datasets/meta_Digital_Music.json.gz') as f:\n",
    "    for l in f:\n",
    "        data6.append(json.loads(l.strip()))\n",
    "Digital_music_meta = pd.DataFrame.from_dict(data6)"
   ]
  },
  {
   "cell_type": "code",
   "execution_count": null,
   "metadata": {},
   "outputs": [],
   "source": [
    "Digital_music_meta.to_csv('digital_music_meta.csv')"
   ]
  },
  {
   "cell_type": "code",
   "execution_count": null,
   "metadata": {},
   "outputs": [],
   "source": [
    "#Merging music metadata with music reviews\n",
    "Music_merged  = Digital_music.merge(Digital_music_meta, on = 'asin', how = 'left')"
   ]
  },
  {
   "cell_type": "code",
   "execution_count": null,
   "metadata": {},
   "outputs": [],
   "source": [
    "#Selecting products in Grocery dataset where there are at least 5 reviews\n",
    "c = Music_merged['asin'].value_counts() > 4\n",
    "Music_reviews = list(c[c].index)"
   ]
  },
  {
   "cell_type": "code",
   "execution_count": null,
   "metadata": {},
   "outputs": [],
   "source": [
    "music_sample = random.sample(Music_reviews, k= 3000)\n",
    "music_sample_df = Music_merged[Music_merged['asin'].isin(music_sample)]"
   ]
  },
  {
   "cell_type": "code",
   "execution_count": null,
   "metadata": {},
   "outputs": [],
   "source": [
    "music_df = music_sample_df.groupby('asin', as_index = False).apply(fn)\n",
    "music_df = music_df.reset_index()\n",
    "print(all(music_df['asin'].value_counts() >=5))"
   ]
  },
  {
   "cell_type": "code",
   "execution_count": null,
   "metadata": {},
   "outputs": [],
   "source": [
    "music_df = music_df.drop(['level_0','level_1'], axis = 1)\n",
    "music_df['vote'] = music_df['vote'].fillna(0)\n",
    "Music_df = music_df.drop(['image_x', 'image_y','category','date','main_cat','feature'], axis = 1)\n",
    "Music_df.to_csv('Music_reviews.csv')"
   ]
  },
  {
   "cell_type": "code",
   "execution_count": null,
   "metadata": {},
   "outputs": [],
   "source": [
    "data7 = []\n",
    "with gzip.open('Amazon_Datasets/All_Beauty.json.gz') as f:\n",
    "    for l in f:\n",
    "        data7.append(json.loads(l.strip()))\n",
    "All_Beauty = pd.DataFrame.from_dict(data7)"
   ]
  },
  {
   "cell_type": "code",
   "execution_count": null,
   "metadata": {},
   "outputs": [],
   "source": [
    "data8 = []\n",
    "with gzip.open('Amazon_Datasets/meta_All_Beauty.json.gz') as f:\n",
    "    for l in f:\n",
    "        data8.append(json.loads(l.strip()))\n",
    "All_Beauty_meta = pd.DataFrame.from_dict(data8)"
   ]
  },
  {
   "cell_type": "code",
   "execution_count": null,
   "metadata": {},
   "outputs": [],
   "source": [
    "All_Beauty_meta.to_csv('all_beauty_meta.csv')"
   ]
  },
  {
   "cell_type": "code",
   "execution_count": null,
   "metadata": {},
   "outputs": [],
   "source": [
    "#Merging All_Beauty metadata with Reviews\n",
    "All_Beauty_merged = All_Beauty.merge(All_Beauty_meta, on = 'asin', how = 'left')"
   ]
  },
  {
   "cell_type": "code",
   "execution_count": null,
   "metadata": {},
   "outputs": [],
   "source": [
    "#Selecting products in All beauty dataset where there are at least 5 reviews\n",
    "d = All_Beauty_merged['asin'].value_counts() > 4\n",
    "All_Beauty_reviews = list(d[d].index)"
   ]
  },
  {
   "cell_type": "code",
   "execution_count": null,
   "metadata": {},
   "outputs": [],
   "source": [
    "All_Beauty_sample = random.sample(All_Beauty_reviews, k = 3000)\n",
    "all_beauty_sample_df = All_Beauty_merged[All_Beauty_merged['asin'].isin(All_Beauty_sample)]"
   ]
  },
  {
   "cell_type": "code",
   "execution_count": null,
   "metadata": {},
   "outputs": [],
   "source": [
    "All_beauty_df = all_beauty_sample_df.groupby('asin', as_index = False).apply(fn)\n",
    "All_beauty_df = All_beauty_df.reset_index()\n",
    "print(all(All_beauty_df['asin'].value_counts() >=5))"
   ]
  },
  {
   "cell_type": "code",
   "execution_count": null,
   "metadata": {},
   "outputs": [],
   "source": [
    "All_beauty_df = All_beauty_df.drop(['level_0','level_1'], axis = 1)\n",
    "All_beauty_df['vote'] = All_beauty_df['vote'].fillna(0)\n",
    "All_beauty_df = All_beauty_df.drop(['image_x', 'image_y','date','main_cat','feature'], axis = 1)\n",
    "All_beauty_df.to_csv('All_beauty.csv')"
   ]
  },
  {
   "cell_type": "code",
   "execution_count": null,
   "metadata": {},
   "outputs": [],
   "source": [
    "data9 = [] \n",
    "with gzip.open('Amazon_Datasets/AMAZON_FASHION.json.gz') as f:\n",
    "    for l in f:\n",
    "        data9.append(json.loads(l.strip()))\n",
    "Amazon_Fashion = pd.DataFrame.from_dict(data9)"
   ]
  },
  {
   "cell_type": "code",
   "execution_count": null,
   "metadata": {},
   "outputs": [],
   "source": [
    "data10 = [] \n",
    "with gzip.open('Amazon_Datasets/meta_AMAZON_FASHION.json.gz') as f:\n",
    "    for l in f:\n",
    "        data10.append(json.loads(l.strip()))\n",
    "meta_Amazon_Fashion = pd.DataFrame.from_dict(data10)"
   ]
  },
  {
   "cell_type": "code",
   "execution_count": null,
   "metadata": {},
   "outputs": [],
   "source": [
    "meta_Amazon_Fashion.to_csv('meta_Amazon_Fashion.csv')"
   ]
  },
  {
   "cell_type": "code",
   "execution_count": null,
   "metadata": {},
   "outputs": [],
   "source": [
    "#Merging Amazon fashion with its respective metadata \n",
    "Amazon_fashion_merged = Amazon_Fashion.merge(meta_Amazon_Fashion, on = 'asin', how = 'left')"
   ]
  },
  {
   "cell_type": "code",
   "execution_count": null,
   "metadata": {},
   "outputs": [],
   "source": [
    "#Selecting products in Amazon Fashion dataset where there are at least 5 reviews\n",
    "e = Amazon_fashion_merged['asin'].value_counts() > 4\n",
    "Amazon_Fashion_reviews = list(e[e].index)"
   ]
  },
  {
   "cell_type": "code",
   "execution_count": null,
   "metadata": {},
   "outputs": [],
   "source": [
    "Amazon_fashion_sample = random.sample(Amazon_Fashion_reviews, k = 3000)\n",
    "amazon_fashion_sample_df = Amazon_fashion_merged[Amazon_fashion_merged['asin'].isin(Amazon_fashion_sample)]"
   ]
  },
  {
   "cell_type": "code",
   "execution_count": null,
   "metadata": {},
   "outputs": [],
   "source": [
    "amazon_fashion_df = amazon_fashion_sample_df.groupby('asin', as_index = False).apply(fn)\n",
    "amazon_fashion_df = amazon_fashion_df.reset_index()\n",
    "print(all(amazon_fashion_df['asin'].value_counts() >=5))"
   ]
  },
  {
   "cell_type": "code",
   "execution_count": null,
   "metadata": {},
   "outputs": [],
   "source": [
    "amazon_fashion_df = amazon_fashion_df.drop(['level_0','level_1'], axis = 1)\n",
    "amazon_fashion_df['vote'] = amazon_fashion_df['vote'].fillna(0)\n",
    "amazon_fashion_df = amazon_fashion_df.drop(['image_x', 'image_y','date','feature'], axis = 1)\n",
    "amazon_fashion_df.to_csv('amazon_fashion.csv')"
   ]
  },
  {
   "cell_type": "code",
   "execution_count": null,
   "metadata": {},
   "outputs": [],
   "source": [
    "data11 = []\n",
    "with gzip.open('Amazon_Datasets/Appliances.json.gz') as f:\n",
    "    for l in f:\n",
    "        data11.append(json.loads(l.strip()))\n",
    "Appliances = pd.DataFrame.from_dict(data11)"
   ]
  },
  {
   "cell_type": "code",
   "execution_count": null,
   "metadata": {},
   "outputs": [],
   "source": [
    "data12 = []\n",
    "with gzip.open('Amazon_Datasets/meta_Appliances.json.gz') as f:\n",
    "    for l in f:\n",
    "        data12.append(json.loads(l.strip()))\n",
    "meta_Appliances = pd.DataFrame.from_dict(data12)"
   ]
  },
  {
   "cell_type": "code",
   "execution_count": null,
   "metadata": {},
   "outputs": [],
   "source": [
    "meta_Appliances.to_csv('meta_Appliances.csv')"
   ]
  },
  {
   "cell_type": "code",
   "execution_count": null,
   "metadata": {},
   "outputs": [],
   "source": [
    "#Merging Amazon appliances with respective metadata\n",
    "Appliances_merged = Appliances.merge(meta_Appliances, on = 'asin', how = 'left')"
   ]
  },
  {
   "cell_type": "code",
   "execution_count": null,
   "metadata": {},
   "outputs": [],
   "source": [
    "#Selecting products in Appliances dataset where there are at least 5 reviews\n",
    "f = Appliances_merged['asin'].value_counts() > 4\n",
    "Appliances_reviews = list(f[f].index)"
   ]
  },
  {
   "cell_type": "code",
   "execution_count": null,
   "metadata": {},
   "outputs": [],
   "source": [
    "appliances_sample = random.sample(Appliances_reviews, k = 3000)\n",
    "appliances_sample_df = Appliances_merged[Appliances_merged['asin'].isin(appliances_sample)]"
   ]
  },
  {
   "cell_type": "code",
   "execution_count": null,
   "metadata": {},
   "outputs": [],
   "source": [
    "amazon_appliances_df = appliances_sample_df.groupby('asin', as_index = False).apply(fn)\n",
    "amazon_appliances_df = amazon_appliances_df.reset_index()\n",
    "print(all(amazon_appliances_df['asin'].value_counts() >=5))"
   ]
  },
  {
   "cell_type": "code",
   "execution_count": null,
   "metadata": {},
   "outputs": [],
   "source": [
    "amazon_appliances_df = amazon_appliances_df.drop(['level_0','level_1'], axis = 1)\n",
    "amazon_appliances_df['vote'] = amazon_appliances_df['vote'].fillna(0)\n",
    "amazon_appliances_df = amazon_appliances_df.drop(['image_x', 'image_y','date','feature'], axis = 1)\n",
    "amazon_appliances_df.to_csv('Appliances.csv')"
   ]
  },
  {
   "cell_type": "code",
   "execution_count": null,
   "metadata": {},
   "outputs": [],
   "source": [
    "data13 = []\n",
    "with gzip.open('Amazon_Datasets/Arts_Crafts_and_Sewing.json.gz') as f:\n",
    "    for l in f:\n",
    "        data13.append(json.loads(l.strip()))\n",
    "Arts_Crafts= pd.DataFrame.from_dict(data13)"
   ]
  },
  {
   "cell_type": "code",
   "execution_count": null,
   "metadata": {},
   "outputs": [],
   "source": [
    "data14 = []\n",
    "with gzip.open('Amazon_Datasets/meta_Arts_Crafts_and_Sewing.json.gz') as f:\n",
    "    for l in f:\n",
    "        data14.append(json.loads(l.strip()))\n",
    "meta_Arts_Crafts= pd.DataFrame.from_dict(data14)"
   ]
  },
  {
   "cell_type": "code",
   "execution_count": null,
   "metadata": {},
   "outputs": [],
   "source": [
    "meta_Arts_Crafts.to_csv('meta_Arts_Crafts.csv')"
   ]
  },
  {
   "cell_type": "code",
   "execution_count": null,
   "metadata": {},
   "outputs": [],
   "source": [
    "g = Arts_Crafts['asin'].value_counts() > 4\n",
    "Arts_Crafts_reviews = list(g[g].index)"
   ]
  },
  {
   "cell_type": "code",
   "execution_count": null,
   "metadata": {},
   "outputs": [],
   "source": [
    "Arts_Crafts_sample = random.sample(Arts_Crafts_reviews, k = 3000) "
   ]
  },
  {
   "cell_type": "code",
   "execution_count": null,
   "metadata": {},
   "outputs": [],
   "source": [
    "Arts_Crafts_sample_df = Arts_Crafts[Arts_Crafts['asin'].isin(Arts_Crafts_sample)]"
   ]
  },
  {
   "cell_type": "code",
   "execution_count": null,
   "metadata": {},
   "outputs": [],
   "source": [
    "#Merging Arts and crafts metadata\n",
    "Arts_crafts_merge = Arts_Crafts_sample_df.merge(meta_Arts_Crafts, on = 'asin', how = 'left')"
   ]
  },
  {
   "cell_type": "code",
   "execution_count": null,
   "metadata": {},
   "outputs": [],
   "source": [
    "Arts_crafts_df = Arts_crafts_merge.groupby('asin', as_index = False).apply(fn)\n",
    "Arts_crafts_df = Arts_crafts_df.reset_index()\n",
    "print(all(Arts_crafts_df['asin'].value_counts() >=5))"
   ]
  },
  {
   "cell_type": "code",
   "execution_count": null,
   "metadata": {},
   "outputs": [],
   "source": [
    "Arts_crafts_df = Arts_crafts_df.drop(['level_0','level_1'], axis = 1)\n",
    "Arts_crafts_df['vote'] = Arts_crafts_df['vote_x'].fillna(0)\n",
    "Arts_crafts_df = Arts_crafts_df.drop(['image_x', 'image_y','date','main_cat','feature','details','fit','image_y','main_cat','reviewText_y','reviewTime_y','reviewerID_y','style_y','tech1','tech2','unixReviewTime_y','verified_y','vote_y'], axis = 1)\n",
    "Arts_crafts_df.to_csv('Arts_crafts.csv')"
   ]
  },
  {
   "cell_type": "code",
   "execution_count": null,
   "metadata": {},
   "outputs": [],
   "source": [
    "data15 = []\n",
    "with gzip.open('Amazon_Datasets/Automotive.json.gz') as f:\n",
    "    for l in f:\n",
    "        data15.append(json.loads(l.strip()))\n",
    "Automotive = pd.DataFrame.from_dict(data15)"
   ]
  },
  {
   "cell_type": "code",
   "execution_count": null,
   "metadata": {},
   "outputs": [],
   "source": [
    "data16 = []\n",
    "with gzip.open('Amazon_Datasets/meta_Automotive.json.gz') as f:\n",
    "    for l in f:\n",
    "        data16.append(json.loads(l.strip()))\n",
    "meta_Automotive = pd.DataFrame.from_dict(data16)"
   ]
  },
  {
   "cell_type": "code",
   "execution_count": null,
   "metadata": {},
   "outputs": [],
   "source": [
    "meta_Automotive.to_csv('meta_Automotive.csv')"
   ]
  },
  {
   "cell_type": "code",
   "execution_count": null,
   "metadata": {},
   "outputs": [],
   "source": [
    "h = Automotive['asin'].value_counts() > 4\n",
    "Automotive_reviews = list(h[h].index)"
   ]
  },
  {
   "cell_type": "code",
   "execution_count": null,
   "metadata": {},
   "outputs": [],
   "source": [
    "Automotive_sample = random.sample(Automotive_reviews, k = 3000)"
   ]
  },
  {
   "cell_type": "code",
   "execution_count": null,
   "metadata": {},
   "outputs": [],
   "source": [
    "Automotive_sample_df = Automotive[Automotive['asin'].isin(Automotive_sample)]"
   ]
  },
  {
   "cell_type": "code",
   "execution_count": null,
   "metadata": {},
   "outputs": [],
   "source": [
    "#Merging Auto metadata\n",
    "Automotive_merge = Automotive_sample_df.merge(meta_Automotive, on = 'asin', how = 'left')"
   ]
  },
  {
   "cell_type": "code",
   "execution_count": null,
   "metadata": {},
   "outputs": [],
   "source": [
    "Automotive_df = Automotive_merge.groupby('asin', as_index = False).apply(fn)\n",
    "Automotive_df = Automotive_df.reset_index()\n",
    "print(all(Automotive_df['asin'].value_counts() >=5))"
   ]
  },
  {
   "cell_type": "code",
   "execution_count": null,
   "metadata": {},
   "outputs": [],
   "source": [
    "Automotive_df = Automotive_df.drop(['level_0','level_1'], axis = 1)\n",
    "Automotive_df['vote'] = Automotive_df['vote'].fillna(0)\n",
    "Automotive_df = Automotive_df.drop(['image_x', 'image_y','date','main_cat','feature','details','image_y','main_cat','tech1','tech2'], axis = 1)\n",
    "Automotive_df.to_csv('Automotive.csv')"
   ]
  },
  {
   "cell_type": "code",
   "execution_count": null,
   "metadata": {},
   "outputs": [],
   "source": [
    "data17 = []\n",
    "with gzip.open('Amazon_Datasets/CDs_and_Vinyl.json.gz') as f:\n",
    "    for l in f:\n",
    "        data17.append(json.loads(l.strip()))\n",
    "CDs_and_Vinyl = pd.DataFrame.from_dict(data17)"
   ]
  },
  {
   "cell_type": "code",
   "execution_count": null,
   "metadata": {},
   "outputs": [],
   "source": [
    "data18 = []\n",
    "with gzip.open('Amazon_Datasets/meta_CDs_and_Vinyl.json.gz') as f:\n",
    "    for l in f:\n",
    "        data18.append(json.loads(l.strip()))\n",
    "meta_CDs_and_Vinyl = pd.DataFrame.from_dict(data18)"
   ]
  },
  {
   "cell_type": "code",
   "execution_count": null,
   "metadata": {},
   "outputs": [],
   "source": [
    "meta_CDs_and_Vinyl.to_csv('meta_CDs_and_Vinyl.csv')"
   ]
  },
  {
   "cell_type": "code",
   "execution_count": null,
   "metadata": {},
   "outputs": [],
   "source": [
    "j = CDs_and_Vinyl_merge['asin'].value_counts() > 4\n",
    "CDs_and_Vinyl_reviews = list(j[j].index)"
   ]
  },
  {
   "cell_type": "code",
   "execution_count": null,
   "metadata": {},
   "outputs": [],
   "source": [
    "#Merging CD's & Vinyl metadata\n",
    "CDs_and_Vinyl_merge = CDs_and_Vinyl.merge(meta_CDs_and_Vinyl, on = 'asin', how = 'left')"
   ]
  },
  {
   "cell_type": "code",
   "execution_count": null,
   "metadata": {},
   "outputs": [],
   "source": [
    "CDs_and_Vinyl_sample = random.sample(CDs_and_Vinyl_reviews, k = 3000)\n",
    "CDs_and_Vinyl_sample_df = CDs_and_Vinyl_merge[CDs_and_Vinyl_merge['asin'].isin(CDs_and_Vinyl_sample)]"
   ]
  },
  {
   "cell_type": "code",
   "execution_count": null,
   "metadata": {},
   "outputs": [],
   "source": [
    "CDs_and_Vinyl_df = CDs_and_Vinyl_sample_df.groupby('asin', as_index = False).apply(fn)\n",
    "CDs_and_Vinyl_df = CDs_and_Vinyl_df.reset_index()\n",
    "print(all(CDs_and_Vinyl_df['asin'].value_counts() >=5))"
   ]
  },
  {
   "cell_type": "code",
   "execution_count": null,
   "metadata": {},
   "outputs": [],
   "source": [
    "CDs_and_Vinyl_df = CDs_and_Vinyl_df.drop(['level_0','level_1'], axis = 1)\n",
    "CDs_and_Vinyl_df['vote'] = CDs_and_Vinyl_df['vote'].fillna(0)\n",
    "CDs_and_Vinyl_df= CDs_and_Vinyl_df.drop(['image_x', 'image_y','date','feature'], axis = 1)\n",
    "CDs_and_Vinyl_df.to_csv('CDs_and_Vinyl.csv')"
   ]
  },
  {
   "cell_type": "code",
   "execution_count": null,
   "metadata": {},
   "outputs": [],
   "source": [
    "data19 = []\n",
    "with gzip.open('Amazon_Datasets/Industrial_and_Scientific.json.gz') as f:\n",
    "    for l in f:\n",
    "        data19.append(json.loads(l.strip()))\n",
    "Industrial_and_Scientific = pd.DataFrame.from_dict(data19)"
   ]
  },
  {
   "cell_type": "code",
   "execution_count": null,
   "metadata": {},
   "outputs": [],
   "source": [
    "data20 = []\n",
    "with gzip.open('Amazon_Datasets/meta_Industrial_and_Scientific.json.gz') as f:\n",
    "    for l in f:\n",
    "        data20.append(json.loads(l.strip()))\n",
    "meta_Industrial_and_Scientific = pd.DataFrame.from_dict(data20)"
   ]
  },
  {
   "cell_type": "code",
   "execution_count": null,
   "metadata": {},
   "outputs": [],
   "source": [
    "meta_Industrial_and_Scientific.to_csv('meta_Industrial_and_Scientific.csv')"
   ]
  },
  {
   "cell_type": "code",
   "execution_count": null,
   "metadata": {},
   "outputs": [],
   "source": [
    "k = Industrial_and_Scientific['asin'].value_counts() > 4\n",
    "Industrial_reviews = list(k[k].index)"
   ]
  },
  {
   "cell_type": "code",
   "execution_count": null,
   "metadata": {},
   "outputs": [],
   "source": [
    "Industrial_sample = random.sample(Industrial_reviews, k = 3000)\n",
    "Industrial_sample_df = Industrial_and_Scientific[Industrial_and_Scientific['asin'].isin(Industrial_sample)]"
   ]
  },
  {
   "cell_type": "code",
   "execution_count": null,
   "metadata": {},
   "outputs": [],
   "source": [
    "#Merging Industrial and scientific metadata\n",
    "Industrial_merge = Industrial_sample_df.merge(meta_Industrial_and_Scientific, on = 'asin', how = 'left')"
   ]
  },
  {
   "cell_type": "code",
   "execution_count": null,
   "metadata": {},
   "outputs": [],
   "source": [
    "Industrial_df = Industrial_merge.groupby('asin', as_index = False).apply(fn)\n",
    "Industrial_df = Industrial_df.reset_index()\n",
    "print(all(Industrial_df['asin'].value_counts() >= 5))"
   ]
  },
  {
   "cell_type": "code",
   "execution_count": null,
   "metadata": {},
   "outputs": [],
   "source": [
    "Industrial_df = Industrial_df.drop(['level_0','level_1'], axis = 1)\n",
    "Industrial_df['vote'] = Industrial_df['vote'].fillna(0)\n",
    "Industrial_df= Industrial_df.drop(['image_x', 'image_y','date','feature', 'tech1', 'tech2'], axis = 1)\n",
    "Industrial_df.to_csv('Industrial_and_Scientific.csv')"
   ]
  },
  {
   "cell_type": "code",
   "execution_count": null,
   "metadata": {},
   "outputs": [],
   "source": [
    "data21 = []\n",
    "with gzip.open('Amazon_Datasets/Kindle_Store.json.gz') as f:\n",
    "    for l in f:\n",
    "        data21.append(json.loads(l.strip()))\n",
    "Kindle_Store = pd.DataFrame.from_dict(data21)"
   ]
  },
  {
   "cell_type": "code",
   "execution_count": null,
   "metadata": {},
   "outputs": [],
   "source": [
    "data22 = []\n",
    "with gzip.open('Amazon_Datasets/meta_Kindle_Store.json.gz') as f:\n",
    "    for l in f:\n",
    "        data22.append(json.loads(l.strip()))\n",
    "meta_Kindle_Store = pd.DataFrame.from_dict(data22)"
   ]
  },
  {
   "cell_type": "code",
   "execution_count": null,
   "metadata": {},
   "outputs": [],
   "source": [
    "meta_Kindle_Store.to_csv('meta_Kindle_Store.csv')"
   ]
  },
  {
   "cell_type": "code",
   "execution_count": null,
   "metadata": {},
   "outputs": [],
   "source": [
    "L = Kindle_Store['asin'].value_counts() > 4\n",
    "Kindle_reviews = list(L[L].index)"
   ]
  },
  {
   "cell_type": "code",
   "execution_count": null,
   "metadata": {},
   "outputs": [],
   "source": [
    "Kindle_sample = random.sample(Kindle_reviews, k = 3000)\n",
    "Kindle_sample_df = Kindle_Store[Kindle_Store['asin'].isin(Kindle_sample)]"
   ]
  },
  {
   "cell_type": "code",
   "execution_count": null,
   "metadata": {},
   "outputs": [],
   "source": [
    "#Merging Cell phones and metadata\n",
    "Kindle_merge = Kindle_sample_df.merge(meta_Kindle_Store, on = 'asin', how = 'left')"
   ]
  },
  {
   "cell_type": "code",
   "execution_count": null,
   "metadata": {},
   "outputs": [],
   "source": [
    "Kindle_df = Kindle_merge.groupby('asin', as_index = False).apply(fn)\n",
    "Kindle_df = Kindle_df.reset_index()\n",
    "print(all(Kindle_df['asin'].value_counts() >= 5))"
   ]
  },
  {
   "cell_type": "code",
   "execution_count": null,
   "metadata": {},
   "outputs": [],
   "source": [
    "Kindle_df.head()"
   ]
  },
  {
   "cell_type": "code",
   "execution_count": null,
   "metadata": {},
   "outputs": [],
   "source": [
    "Kindle_df = Kindle_df.drop(['level_0','level_1'], axis = 1)\n",
    "Kindle_df['vote'] = Kindle_df['vote'].fillna(0)\n",
    "Kindle_df= Kindle_df.drop(['image_x', 'image_y','date','feature', 'tech1', 'tech2'], axis = 1)\n",
    "Kindle_df.to_csv('Kindle.csv')"
   ]
  },
  {
   "cell_type": "code",
   "execution_count": null,
   "metadata": {},
   "outputs": [],
   "source": [
    "data23 = []\n",
    "with gzip.open('Amazon_Datasets/Luxury_Beauty.json.gz') as f:\n",
    "    for l in f:\n",
    "        data23.append(json.loads(l.strip()))\n",
    "Luxury_Beauty= pd.DataFrame.from_dict(data23)"
   ]
  },
  {
   "cell_type": "code",
   "execution_count": null,
   "metadata": {},
   "outputs": [],
   "source": [
    "data24 = []\n",
    "with gzip.open('Amazon_Datasets/meta_Luxury_Beauty.json.gz') as f:\n",
    "    for l in f:\n",
    "        data24.append(json.loads(l.strip()))\n",
    "meta_Luxury_Beauty = pd.DataFrame.from_dict(data24)"
   ]
  },
  {
   "cell_type": "code",
   "execution_count": null,
   "metadata": {},
   "outputs": [],
   "source": [
    "m = Luxury_Beauty['asin'].value_counts() > 4\n",
    "Luxury_Beauty_reviews = list(m[m].index)"
   ]
  },
  {
   "cell_type": "code",
   "execution_count": null,
   "metadata": {},
   "outputs": [],
   "source": [
    "Luxury_Beauty_sample = random.sample(Luxury_Beauty_reviews, k = 3000)\n",
    "Luxury_Beauty_sample_df = Luxury_Beauty[Luxury_Beauty['asin'].isin(Luxury_Beauty_sample)]"
   ]
  },
  {
   "cell_type": "code",
   "execution_count": null,
   "metadata": {},
   "outputs": [],
   "source": [
    "Luxury_merge = Luxury_Beauty_sample_df.merge(meta_Luxury_Beauty, on = 'asin', how = 'left')"
   ]
  },
  {
   "cell_type": "code",
   "execution_count": null,
   "metadata": {},
   "outputs": [],
   "source": [
    "Luxury_Beauty_df = Luxury_merge.groupby('asin', as_index = False).apply(fn)\n",
    "Luxury_Beauty_df = Luxury_Beauty_df.reset_index()\n",
    "print(all(Luxury_Beauty_df['asin'].value_counts() >= 5))"
   ]
  },
  {
   "cell_type": "code",
   "execution_count": null,
   "metadata": {},
   "outputs": [],
   "source": [
    "Luxury_df = Luxury_Beauty_df.drop(['level_0','level_1'], axis = 1)\n",
    "Luxury_df['vote'] = Luxury_df['vote'].fillna(0)\n",
    "Luxury_df= Luxury_df.drop(['image_x', 'image_y','feature','brand'], axis = 1)\n",
    "Luxury_df.to_csv('Luxury_Beauty.csv')"
   ]
  },
  {
   "cell_type": "code",
   "execution_count": null,
   "metadata": {},
   "outputs": [],
   "source": [
    "data25 = []\n",
    "with gzip.open('Amazon_Datasets/Movies_and_TV.json.gz') as f:\n",
    "    for l in f:\n",
    "        data25.append(json.loads(l.strip()))\n",
    "Movies_and_TV= pd.DataFrame.from_dict(data25)"
   ]
  },
  {
   "cell_type": "code",
   "execution_count": null,
   "metadata": {},
   "outputs": [],
   "source": [
    "data26 = []\n",
    "with gzip.open('Amazon_Datasets/meta_Movies_and_TV.json.gz') as f:\n",
    "    for l in f:\n",
    "        data26.append(json.loads(l.strip()))\n",
    "meta_Movies_and_TV = pd.DataFrame.from_dict(data26)"
   ]
  },
  {
   "cell_type": "code",
   "execution_count": null,
   "metadata": {},
   "outputs": [],
   "source": [
    "n = Movies_and_TV['asin'].value_counts() > 4\n",
    "Movies_and_TV_reviews = list(n[n].index)"
   ]
  },
  {
   "cell_type": "code",
   "execution_count": null,
   "metadata": {},
   "outputs": [],
   "source": [
    "Movies_and_TV_sample = random.sample(Movies_and_TV_reviews, k = 3000)\n",
    "Movies_and_TV_sample_df = Movies_and_TV[Movies_and_TV['asin'].isin(Movies_and_TV_sample)]"
   ]
  },
  {
   "cell_type": "code",
   "execution_count": null,
   "metadata": {},
   "outputs": [],
   "source": [
    "Movies_and_TV_merge = Movies_and_TV_sample_df.merge(meta_Movies_and_TV, on = 'asin', how = 'left')"
   ]
  },
  {
   "cell_type": "code",
   "execution_count": null,
   "metadata": {},
   "outputs": [],
   "source": [
    "Movies_and_TV_df = Movies_and_TV_merge.groupby('asin', as_index = False).apply(fn)\n",
    "Movies_and_TV_df = Movies_and_TV_df.reset_index()\n",
    "print(all(Movies_and_TV_df['asin'].value_counts() >= 5))"
   ]
  },
  {
   "cell_type": "code",
   "execution_count": null,
   "metadata": {},
   "outputs": [],
   "source": [
    "Movies_and_TV_df = Movies_and_TV_df.drop(['level_0','level_1'], axis = 1)\n",
    "Movies_and_TV_df['vote'] = Movies_and_TV_df['vote'].fillna(0)\n",
    "Movies_and_TV_df= Movies_and_TV_df.drop(['image_x', 'image_y','feature','brand'], axis = 1)\n",
    "Movies_and_TV_df.to_csv('Movies_and_TV.csv')"
   ]
  },
  {
   "cell_type": "code",
   "execution_count": null,
   "metadata": {},
   "outputs": [],
   "source": [
    "data27 = []\n",
    "with gzip.open('Amazon_Datasets/Musical_Instruments.json.gz') as f:\n",
    "    for l in f:\n",
    "        data27.append(json.loads(l.strip()))\n",
    "Musical_Instruments= pd.DataFrame.from_dict(data27)"
   ]
  },
  {
   "cell_type": "code",
   "execution_count": null,
   "metadata": {},
   "outputs": [],
   "source": [
    "data28 = []\n",
    "with gzip.open('Amazon_Datasets/meta_Musical_Instruments.json.gz') as f:\n",
    "    for l in f:\n",
    "        data28.append(json.loads(l.strip()))\n",
    "meta_Musical_Instruments = pd.DataFrame.from_dict(data28)"
   ]
  },
  {
   "cell_type": "code",
   "execution_count": null,
   "metadata": {},
   "outputs": [],
   "source": [
    "meta_Musical_Instruments.to_csv('meta_Musical_Instruments.csv')"
   ]
  },
  {
   "cell_type": "code",
   "execution_count": null,
   "metadata": {},
   "outputs": [],
   "source": [
    "o = Musical_Instruments['asin'].value_counts() > 4\n",
    "Musical_instruments = list(o[o].index)"
   ]
  },
  {
   "cell_type": "code",
   "execution_count": null,
   "metadata": {},
   "outputs": [],
   "source": [
    "Musical_instruments_sample = random.sample(Musical_instruments, k = 3000)\n",
    "Musical_instruments_sample_df = Musical_Instruments[Musical_Instruments['asin'].isin(Musical_instruments_sample)]"
   ]
  },
  {
   "cell_type": "code",
   "execution_count": null,
   "metadata": {},
   "outputs": [],
   "source": [
    "Musical_instruments_merge = Musical_instruments_sample_df.merge(meta_Musical_Instruments, on = 'asin', how = 'left')"
   ]
  },
  {
   "cell_type": "code",
   "execution_count": null,
   "metadata": {},
   "outputs": [],
   "source": [
    "Musical_instruments_df = Musical_instruments_merge.groupby('asin', as_index = False).apply(fn)\n",
    "Musical_instruments_df = Musical_instruments_df.reset_index()\n",
    "print(all(Musical_instruments_df['asin'].value_counts() >= 5))"
   ]
  },
  {
   "cell_type": "code",
   "execution_count": null,
   "metadata": {},
   "outputs": [],
   "source": [
    "Musical_instruments_df = Musical_instruments_df.drop(['level_0','level_1'], axis = 1)\n",
    "Musical_instruments_df['vote'] = Musical_instruments_df['vote'].fillna(0)\n",
    "Musical_instruments_df= Musical_instruments_df.drop(['image_x', 'image_y','feature','brand','fit','main_cat','tech1','tech2'], axis = 1)\n",
    "Musical_instruments_df.to_csv('Musical_instruments.csv')"
   ]
  },
  {
   "cell_type": "code",
   "execution_count": null,
   "metadata": {},
   "outputs": [],
   "source": [
    "data29 = []\n",
    "with gzip.open('Amazon_Datasets/Office_Products.json.gz') as f:\n",
    "    for l in f:\n",
    "        data29.append(json.loads(l.strip()))\n",
    "Office_Products = pd.DataFrame.from_dict(data29)"
   ]
  },
  {
   "cell_type": "code",
   "execution_count": null,
   "metadata": {},
   "outputs": [],
   "source": [
    "data30 = []\n",
    "with gzip.open('Amazon_Datasets/meta_Office_Products.json.gz') as f:\n",
    "    for l in f:\n",
    "        data30.append(json.loads(l.strip()))\n",
    "meta_Office_Products = pd.DataFrame.from_dict(data30)"
   ]
  },
  {
   "cell_type": "code",
   "execution_count": null,
   "metadata": {},
   "outputs": [],
   "source": [
    "meta_Office_Products.to_csv('meta_Office_Products.csv')"
   ]
  },
  {
   "cell_type": "code",
   "execution_count": null,
   "metadata": {},
   "outputs": [],
   "source": [
    "p = Office_Products['asin'].value_counts() > 4\n",
    "Office_products = list(p[p].index)"
   ]
  },
  {
   "cell_type": "code",
   "execution_count": null,
   "metadata": {},
   "outputs": [],
   "source": [
    "Office_products_sample = random.sample(Office_products, k = 3000)\n",
    "Office_products_sample_df = Office_Products[Office_Products['asin'].isin(Office_products_sample)]"
   ]
  },
  {
   "cell_type": "code",
   "execution_count": null,
   "metadata": {},
   "outputs": [],
   "source": [
    "Office_products_merge = Office_products_sample_df.merge(meta_Office_Products, on = 'asin', how = 'left')"
   ]
  },
  {
   "cell_type": "code",
   "execution_count": null,
   "metadata": {},
   "outputs": [],
   "source": [
    "Office_products_df = Office_products_merge.groupby('asin', as_index = False).apply(fn)\n",
    "Office_products_df = Office_products_df.reset_index()\n",
    "print(all(Office_products_df['asin'].value_counts() >= 5))"
   ]
  },
  {
   "cell_type": "code",
   "execution_count": null,
   "metadata": {},
   "outputs": [],
   "source": [
    "Office_products_df = Office_products_df.drop(['level_0','level_1'], axis = 1)\n",
    "Office_products_df['vote'] = Office_products_df['vote'].fillna(0)\n",
    "Office_products_df= Office_products_df.drop(['image_x', 'image_y','feature','brand','fit','main_cat','tech1','tech2'], axis = 1)\n",
    "Office_products_df.to_csv('Office_products.csv')"
   ]
  },
  {
   "cell_type": "code",
   "execution_count": null,
   "metadata": {},
   "outputs": [],
   "source": [
    "data31 = []\n",
    "with gzip.open('Amazon_Datasets/Pet_Supplies.json.gz') as f:\n",
    "    for l in f:\n",
    "        data31.append(json.loads(l.strip()))\n",
    "Pet_Supplies = pd.DataFrame.from_dict(data31)"
   ]
  },
  {
   "cell_type": "code",
   "execution_count": null,
   "metadata": {},
   "outputs": [],
   "source": [
    "data32 = []\n",
    "with gzip.open('Amazon_Datasets/meta_Pet_Supplies.json.gz') as f:\n",
    "    for l in f:\n",
    "        data32.append(json.loads(l.strip()))\n",
    "meta_Pet_Supplies = pd.DataFrame.from_dict(data32)"
   ]
  },
  {
   "cell_type": "code",
   "execution_count": null,
   "metadata": {},
   "outputs": [],
   "source": [
    "q = Pet_Supplies['asin'].value_counts() > 4\n",
    "Pet_supplies = list(q[q].index)"
   ]
  },
  {
   "cell_type": "code",
   "execution_count": null,
   "metadata": {},
   "outputs": [],
   "source": [
    "Pet_supplies_sample = random.sample(Pet_supplies, k = 3000)\n",
    "Pet_supplies_sample_df = Pet_Supplies[Pet_Supplies['asin'].isin(Pet_supplies_sample)]"
   ]
  },
  {
   "cell_type": "code",
   "execution_count": null,
   "metadata": {},
   "outputs": [],
   "source": [
    "Pet_supplies_merge = Pet_supplies_sample_df.merge(meta_Pet_Supplies, how = 'left', on = 'asin')"
   ]
  },
  {
   "cell_type": "code",
   "execution_count": null,
   "metadata": {},
   "outputs": [],
   "source": [
    "Pet_supplies_df = Pet_supplies_merge.groupby('asin', as_index = False).apply(fn)\n",
    "Pet_supplies_df = Pet_supplies_df.reset_index()\n",
    "print(all(Pet_supplies_df['asin'].value_counts() >= 5))"
   ]
  },
  {
   "cell_type": "code",
   "execution_count": null,
   "metadata": {},
   "outputs": [],
   "source": [
    "Pet_supplies_df = Pet_supplies_df.drop(['level_0','level_1'], axis = 1)\n",
    "Pet_supplies_df['vote'] = Pet_supplies_df['vote'].fillna(0)\n",
    "Pet_supplies_df= Pet_supplies_df.drop(['image_x', 'image_y','feature','fit','tech1','tech2'], axis = 1)\n",
    "Pet_supplies_df.to_csv('Pet_supplies.csv')"
   ]
  },
  {
   "cell_type": "code",
   "execution_count": null,
   "metadata": {},
   "outputs": [],
   "source": [
    "data33 = []\n",
    "with gzip.open('Amazon_Datasets/Prime_Pantry.json.gz') as f:\n",
    "    for l in f:\n",
    "        data33.append(json.loads(l.strip()))\n",
    "Prime_Pantry = pd.DataFrame.from_dict(data33)"
   ]
  },
  {
   "cell_type": "code",
   "execution_count": null,
   "metadata": {},
   "outputs": [],
   "source": [
    "data34 = []\n",
    "with gzip.open('Amazon_Datasets/meta_Prime_Pantry.json.gz') as f:\n",
    "    for l in f:\n",
    "        data34.append(json.loads(l.strip()))\n",
    "meta_Prime_Pantry = pd.DataFrame.from_dict(data34)"
   ]
  },
  {
   "cell_type": "code",
   "execution_count": null,
   "metadata": {},
   "outputs": [],
   "source": [
    "meta_Prime_Pantry.to_csv('meta_Prime_Pantry.csv')"
   ]
  },
  {
   "cell_type": "code",
   "execution_count": null,
   "metadata": {},
   "outputs": [],
   "source": [
    "r = Prime_Pantry['asin'].value_counts() > 4\n",
    "Prime_pantry = list(r[r].index)"
   ]
  },
  {
   "cell_type": "code",
   "execution_count": null,
   "metadata": {},
   "outputs": [],
   "source": [
    "Prime_pantry_sample = random.sample(Prime_pantry, k = 3000)\n",
    "Prime_pantry_sample_df = Prime_Pantry[Prime_Pantry['asin'].isin(Prime_pantry_sample)]"
   ]
  },
  {
   "cell_type": "code",
   "execution_count": null,
   "metadata": {},
   "outputs": [],
   "source": [
    "Prime_pantry_merge = Prime_pantry_sample_df.merge(meta_Prime_Pantry, how = 'left', on = 'asin')"
   ]
  },
  {
   "cell_type": "code",
   "execution_count": null,
   "metadata": {},
   "outputs": [],
   "source": [
    "Prime_pantry_df = Prime_pantry_merge.groupby('asin', as_index = False).apply(fn)\n",
    "Prime_pantry_df = Prime_pantry_df.reset_index()\n",
    "print(all(Prime_pantry_df['asin'].value_counts() >= 5))"
   ]
  },
  {
   "cell_type": "code",
   "execution_count": null,
   "metadata": {},
   "outputs": [],
   "source": [
    "Prime_pantry_df = Prime_pantry_df.drop(['level_0','level_1'], axis = 1)\n",
    "Prime_pantry_df['vote'] = Prime_pantry_df['vote'].fillna(0)\n",
    "Prime_pantry_df= Prime_pantry_df.drop(['image_x', 'image_y','feature'], axis = 1)\n",
    "Prime_pantry_df.to_csv('Prime_pantry.csv')"
   ]
  },
  {
   "cell_type": "code",
   "execution_count": null,
   "metadata": {},
   "outputs": [],
   "source": [
    "data35 = []\n",
    "with gzip.open('Amazon_Datasets/Software.json.gz') as f:\n",
    "    for l in f:\n",
    "        data35.append(json.loads(l.strip()))\n",
    "Software = pd.DataFrame.from_dict(data35)"
   ]
  },
  {
   "cell_type": "code",
   "execution_count": null,
   "metadata": {},
   "outputs": [],
   "source": [
    "data36 = []\n",
    "with gzip.open('Amazon_Datasets/meta_Software.json.gz') as f:\n",
    "    for l in f:\n",
    "        data36.append(json.loads(l.strip()))\n",
    "meta_Software = pd.DataFrame.from_dict(data36)"
   ]
  },
  {
   "cell_type": "code",
   "execution_count": null,
   "metadata": {},
   "outputs": [],
   "source": [
    "s = Software['asin'].value_counts() > 4\n",
    "software = list(s[s].index)"
   ]
  },
  {
   "cell_type": "code",
   "execution_count": null,
   "metadata": {},
   "outputs": [],
   "source": [
    "software_sample = random.sample(software, k = 3000)\n",
    "software_sample_df = Software[Software['asin'].isin(software_sample)]"
   ]
  },
  {
   "cell_type": "code",
   "execution_count": null,
   "metadata": {},
   "outputs": [],
   "source": [
    "software_merge = software_sample_df.merge(meta_Software, how = 'left', on = 'asin')"
   ]
  },
  {
   "cell_type": "code",
   "execution_count": null,
   "metadata": {},
   "outputs": [],
   "source": [
    "software_df = software_merge.groupby('asin', as_index = False).apply(fn)\n",
    "software_df = software_df.reset_index()\n",
    "print(all(software_df['asin'].value_counts() >= 5))"
   ]
  },
  {
   "cell_type": "code",
   "execution_count": null,
   "metadata": {},
   "outputs": [],
   "source": [
    "software_df = software_df.drop(['level_0','level_1'], axis = 1)\n",
    "software_df['vote'] = software_df['vote'].fillna(0)\n",
    "software_df= software_df.drop(['image_x', 'image_y','feature'], axis = 1)\n",
    "software_df.to_csv('Software.csv')"
   ]
  },
  {
   "cell_type": "code",
   "execution_count": null,
   "metadata": {},
   "outputs": [],
   "source": [
    "data37 = []\n",
    "with gzip.open('Amazon_Datasets/Tools_and_Home_Improvement.json.gz') as f:\n",
    "    for l in f:\n",
    "        data37.append(json.loads(l.strip()))\n",
    "Tools = pd.DataFrame.from_dict(data37)"
   ]
  },
  {
   "cell_type": "code",
   "execution_count": null,
   "metadata": {},
   "outputs": [],
   "source": [
    "data38 = []\n",
    "with gzip.open('Amazon_Datasets/meta_Tools_and_Home_Improvement.json.gz') as f:\n",
    "    for l in f:\n",
    "        data38.append(json.loads(l.strip()))\n",
    "meta_Tools = pd.DataFrame.from_dict(data38)"
   ]
  },
  {
   "cell_type": "code",
   "execution_count": null,
   "metadata": {},
   "outputs": [],
   "source": [
    "t = Tools['asin'].value_counts() > 4\n",
    "tools = list(t[t].index)"
   ]
  },
  {
   "cell_type": "code",
   "execution_count": null,
   "metadata": {},
   "outputs": [],
   "source": [
    "tools_sample = random.sample(tools, k = 3000)\n",
    "tools_sample_df = Tools[Tools['asin'].isin(tools_sample)]"
   ]
  },
  {
   "cell_type": "code",
   "execution_count": null,
   "metadata": {},
   "outputs": [],
   "source": [
    "tools_merge = tools_sample_df.merge(meta_Tools, how = 'left', on = 'asin')"
   ]
  },
  {
   "cell_type": "code",
   "execution_count": null,
   "metadata": {},
   "outputs": [],
   "source": [
    "tools_df = tools_merge.groupby('asin', as_index = False).apply(fn)\n",
    "tools_df = tools_df.reset_index()\n",
    "print(all(tools_df['asin'].value_counts() >= 5))"
   ]
  },
  {
   "cell_type": "code",
   "execution_count": null,
   "metadata": {},
   "outputs": [],
   "source": [
    "tools_df = tools_df.drop(['level_0','level_1'], axis = 1)\n",
    "tools_df['vote'] = tools_df['vote'].fillna(0)\n",
    "tools_df= tools_df.drop(['image_x', 'image_y','feature', 'tech1', 'tech2'], axis = 1)\n",
    "tools_df.to_csv('Tools.csv')"
   ]
  },
  {
   "cell_type": "code",
   "execution_count": null,
   "metadata": {},
   "outputs": [],
   "source": [
    "data39 = []\n",
    "with gzip.open('Amazon_Datasets/Toys_and_Games.json.gz') as f:\n",
    "    for l in f:\n",
    "        data39.append(json.loads(l.strip()))\n",
    "Toys_and_Games = pd.DataFrame.from_dict(data39)"
   ]
  },
  {
   "cell_type": "code",
   "execution_count": null,
   "metadata": {},
   "outputs": [],
   "source": [
    "data40 = []\n",
    "with gzip.open('Amazon_Datasets/meta_Toys_and_Games.json.gz') as f:\n",
    "    for l in f:\n",
    "        data40.append(json.loads(l.strip()))\n",
    "meta_Toys_and_Games = pd.DataFrame.from_dict(data40)"
   ]
  },
  {
   "cell_type": "code",
   "execution_count": null,
   "metadata": {},
   "outputs": [],
   "source": [
    "u = Toys_and_Games['asin'].value_counts() > 4\n",
    "toys = list(u[u].index)"
   ]
  },
  {
   "cell_type": "code",
   "execution_count": null,
   "metadata": {},
   "outputs": [],
   "source": [
    "toys_sample = random.sample(toys, k = 3000)\n",
    "toys_sample_df = Toys_and_Games[Toys_and_Games['asin'].isin(toys_sample)]"
   ]
  },
  {
   "cell_type": "code",
   "execution_count": null,
   "metadata": {},
   "outputs": [],
   "source": [
    "toys_merge = toys_sample_df.merge(meta_Toys_and_Games, how = 'left', on = 'asin')"
   ]
  },
  {
   "cell_type": "code",
   "execution_count": null,
   "metadata": {},
   "outputs": [],
   "source": [
    "toys_df = toys_merge.groupby('asin', as_index = False).apply(fn)\n",
    "toys_df = toys_df.reset_index()\n",
    "print(all(toys_df['asin'].value_counts() >= 5))"
   ]
  },
  {
   "cell_type": "code",
   "execution_count": null,
   "metadata": {},
   "outputs": [],
   "source": [
    "toys_df = toys_df.drop(['level_0','level_1'], axis = 1)\n",
    "toys_df['vote'] = toys_df['vote'].fillna(0)\n",
    "toys_df= toys_df.drop(['image_x', 'image_y', 'tech1', 'tech2'], axis = 1)\n",
    "toys_df.to_csv('Toys.csv')"
   ]
  },
  {
   "cell_type": "code",
   "execution_count": null,
   "metadata": {},
   "outputs": [],
   "source": [
    "data42 = []\n",
    "with gzip.open('Amazon_Datasets/Video_Games.json.gz') as f:\n",
    "    for l in f:\n",
    "        data42.append(json.loads(l.strip()))\n",
    "Video_Games = pd.DataFrame.from_dict(data42)"
   ]
  },
  {
   "cell_type": "code",
   "execution_count": null,
   "metadata": {},
   "outputs": [],
   "source": [
    "data43 = []\n",
    "with gzip.open('Amazon_Datasets/meta_Video_Games.json.gz') as f:\n",
    "    for l in f:\n",
    "        data43.append(json.loads(l.strip()))\n",
    "meta_Video_Games = pd.DataFrame.from_dict(data43)"
   ]
  },
  {
   "cell_type": "code",
   "execution_count": null,
   "metadata": {},
   "outputs": [],
   "source": [
    "v = Video_Games['asin'].value_counts() > 4\n",
    "video_games = list(v[v].index)"
   ]
  },
  {
   "cell_type": "code",
   "execution_count": null,
   "metadata": {},
   "outputs": [],
   "source": [
    "video_games_sample = random.sample(video_games, k = 3000)\n",
    "video_games_sample_df = Video_Games[Video_Games['asin'].isin(video_games_sample)]"
   ]
  },
  {
   "cell_type": "code",
   "execution_count": null,
   "metadata": {},
   "outputs": [],
   "source": [
    "video_games_merge = video_games_sample_df.merge(meta_Video_Games, how = 'left', on = 'asin')"
   ]
  },
  {
   "cell_type": "code",
   "execution_count": null,
   "metadata": {},
   "outputs": [],
   "source": [
    "video_games_df = video_games_merge.groupby('asin', as_index = False).apply(fn)\n",
    "video_games_df = video_games_df.reset_index()\n",
    "print(all(video_games_df['asin'].value_counts() >= 5))"
   ]
  },
  {
   "cell_type": "code",
   "execution_count": null,
   "metadata": {},
   "outputs": [],
   "source": [
    "video_games_df = video_games_df.drop(['level_0','level_1'], axis = 1)\n",
    "video_games_df['vote'] = video_games_df['vote'].fillna(0)\n",
    "video_games_df= video_games_df.drop(['image_x', 'image_y', 'tech1', 'tech2'], axis = 1)\n",
    "video_games_df.to_csv('Video_Games.csv')"
   ]
  }
 ],
 "metadata": {
  "kernelspec": {
   "display_name": "Python 3",
   "language": "python",
   "name": "python3"
  },
  "language_info": {
   "codemirror_mode": {
    "name": "ipython",
    "version": 3
   },
   "file_extension": ".py",
   "mimetype": "text/x-python",
   "name": "python",
   "nbconvert_exporter": "python",
   "pygments_lexer": "ipython3",
   "version": "3.7.3"
  }
 },
 "nbformat": 4,
 "nbformat_minor": 2
}
