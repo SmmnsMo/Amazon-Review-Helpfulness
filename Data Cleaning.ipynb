{
 "cells": [
  {
   "cell_type": "code",
   "execution_count": null,
   "metadata": {},
   "outputs": [],
   "source": [
    "import pandas as pd\n",
    "import numpy as np\n",
    "import re\n",
    "from datetime import datetime \n",
    "import random"
   ]
  },
  {
   "cell_type": "code",
   "execution_count": null,
   "metadata": {},
   "outputs": [],
   "source": [
    "#This function takes a random sample of size (5) without replacement\n",
    "size = 5        # sample size\n",
    "replace = False  # No replacement\n",
    "fn = lambda obj: obj.loc[np.random.choice(obj.index, size, replace),:]"
   ]
  },
  {
   "cell_type": "code",
   "execution_count": null,
   "metadata": {},
   "outputs": [],
   "source": [
    "#importing all csv files\n",
    "all_beauty = pd.read_csv('Amazon_Reviews/All_Beauty.csv') \n",
    "amazon_fashion = pd.read_csv('Amazon_Reviews/Amazon_Fashion.csv') #Amazon Fashion does not have a main_cat column\n",
    "appliances = pd.read_csv('Amazon_Reviews/Appliances.csv')  \n",
    "arts_crafts = pd.read_csv('Amazon_Reviews/Arts_Crafts.csv') \n",
    "automotive = pd.read_csv('Amazon_Reviews/Automotive.csv') \n",
    "cds_and_vinyl = pd.read_csv('Amazon_Reviews/Cds_and_Vinyl.csv') \n",
    "grocery = pd.read_csv('Amazon_reviews/Grocery_reviews.csv')\n",
    "industrial = pd.read_csv('Amazon_reviews/Industrial_and_Scientific.csv')\n",
    "kindle = pd.read_csv('Amazon_reviews/Kindle.csv')\n",
    "luxury_beauty = pd.read_csv('Amazon_reviews/Luxury_Beauty.csv')\n",
    "movies = pd.read_csv('Amazon_reviews/Movies_and_TV.csv')\n",
    "music = pd.read_csv('Amazon_reviews/Music_reviews.csv') #Music has both x and y columns - but no main cat column\n",
    "musical_instruments = pd.read_csv('Amazon_reviews/Musical_Instruments.csv') \n",
    "office_products = pd.read_csv('Amazon_reviews/Office_Products.csv') \n",
    "patio = pd.read_csv('Amazon_reviews/Patio_reviews.csv')\n",
    "pet_supplies = pd.read_csv('Amazon_reviews/Pet_supplies.csv')\n",
    "prime_pantry = pd.read_csv('Amazon_reviews/Prime_Pantry.csv') \n",
    "software = pd.read_csv('Amazon_reviews/Software.csv')\n",
    "tools = pd.read_csv('Amazon_reviews/Tools.csv')\n",
    "toys = pd.read_csv('Amazon_reviews/Toys.csv')\n",
    "video_games = pd.read_csv('Amazon_reviews/Video_Games.csv')"
   ]
  },
  {
   "cell_type": "code",
   "execution_count": null,
   "metadata": {},
   "outputs": [],
   "source": [
    "#Grocery has 5000 products - Limiting it to 3000\n",
    "b = grocery['asin'].value_counts() > 4"
   ]
  },
  {
   "cell_type": "code",
   "execution_count": null,
   "metadata": {},
   "outputs": [],
   "source": [
    "grocery_test = list(b[b].index)"
   ]
  },
  {
   "cell_type": "code",
   "execution_count": null,
   "metadata": {},
   "outputs": [],
   "source": [
    "grocery_sample = random.sample(grocery_test, k = 3000)\n",
    "grocery_ = grocery[grocery['asin'].isin(grocery_sample)]"
   ]
  },
  {
   "cell_type": "code",
   "execution_count": null,
   "metadata": {},
   "outputs": [],
   "source": [
    "#Music has 5000 products - Limiting it to 3000\n",
    "c = music['asin'].value_counts() > 4\n",
    "music_test = list(c[c].index)\n",
    "music_sample = random.sample(music_test, k=3000)\n",
    "music_ = music[music['asin'].isin(music_sample)]"
   ]
  },
  {
   "cell_type": "code",
   "execution_count": null,
   "metadata": {},
   "outputs": [],
   "source": [
    "#Patio has 5000 products - Limiting it to 3000\n",
    "d = patio['asin'].value_counts() > 4\n",
    "patio_test = list(d[d].index)\n",
    "patio_sample = random.sample(patio_test, k=3000)\n",
    "patio_ = patio[patio['asin'].isin(patio_sample)]"
   ]
  },
  {
   "cell_type": "code",
   "execution_count": null,
   "metadata": {},
   "outputs": [],
   "source": [
    "#Renaming arts_crafts columns to match the others\n",
    "arts_crafts = arts_crafts.rename(columns = {'overall_x':'overall', 'reviewText_x':'reviewText','reviewTime_x':'reviewTime','reviewerID_x':'reviewerName_x','style_x':'style','summary_x':'summary','verified_x':'verified','vote_x':'vote',})"
   ]
  },
  {
   "cell_type": "code",
   "execution_count": null,
   "metadata": {},
   "outputs": [],
   "source": [
    "#Renaming appliances main_cat column to match\n",
    "appliances = appliances.rename(columns = {'main_cat_x':'main_cat'})"
   ]
  },
  {
   "cell_type": "code",
   "execution_count": null,
   "metadata": {},
   "outputs": [],
   "source": [
    "#Renaming cds and vinyl column to match\n",
    "cds_and_vinyl = cds_and_vinyl.rename(columns = {'main_cat_x':'main_cat'})"
   ]
  },
  {
   "cell_type": "code",
   "execution_count": null,
   "metadata": {},
   "outputs": [],
   "source": [
    "#Adding a category column to denote where each dataframe originates from\n",
    "all_beauty['category'] = 'all_beauty'\n",
    "amazon_fashion['category'] = 'amazon_fashion'\n",
    "appliances['category'] = 'appliances'\n",
    "arts_crafts['category'] = 'arts_crafts'\n",
    "automotive['category'] = 'automotive'\n",
    "cds_and_vinyl['category'] = 'cds_and_vinyl'\n",
    "grocery_['category'] = 'grocery'\n",
    "industrial['category'] = 'industrial'\n",
    "kindle['category'] = 'kindle'\n",
    "luxury_beauty['category'] = 'luxury_beauty'\n",
    "movies['category'] = 'movies'\n",
    "music_['category'] = 'music'\n",
    "musical_instruments['category'] = 'musical_instruments'\n",
    "office_products['category'] = 'office_products'\n",
    "patio_['category'] = 'patio'\n",
    "pet_supplies['category'] = 'pet_supplies'\n",
    "prime_pantry['category'] = 'prime_pantry'\n",
    "software['category'] = 'software'\n",
    "tools['category'] = 'tools'\n",
    "toys['category'] = 'toys'\n",
    "video_games['category'] = 'video_games'"
   ]
  },
  {
   "cell_type": "code",
   "execution_count": null,
   "metadata": {},
   "outputs": [],
   "source": [
    "#Compiling a list of columns\n",
    "list(grocery.columns)"
   ]
  },
  {
   "cell_type": "code",
   "execution_count": null,
   "metadata": {},
   "outputs": [],
   "source": [
    "#Creating a list of relevant columns to pull from each dataframe\n",
    "columns = ['asin','overall','reviewText','reviewTime','reviewerID','reviewerName','style','summary','verified','vote','also_buy','also_view','brand','description','details','price','rank','similar_item','title','main_cat','category']"
   ]
  },
  {
   "cell_type": "code",
   "execution_count": null,
   "metadata": {},
   "outputs": [],
   "source": [
    "#Selecting only relevant columns from arts and crafts\n",
    "arts_crafts = arts_crafts.iloc[:,[0,1,2,3,4,5,6,7,8,10,11,12,13,14,15,16,17,18,19]]"
   ]
  },
  {
   "cell_type": "code",
   "execution_count": null,
   "metadata": {},
   "outputs": [],
   "source": [
    "#Filtering all dataframes by only the relevant columns \n",
    "all_beauty = all_beauty.loc[:,columns]\n",
    "amazon_fashion = amazon_fashion.loc[:,columns]\n",
    "appliances = appliances.loc[:,columns]\n",
    "arts_crafts = arts_crafts.loc[:,columns]\n",
    "automotive = automotive.loc[:,columns]\n",
    "cds_and_vinyl = cds_and_vinyl.loc[:,columns]\n",
    "grocery = grocery_.loc[:,columns]\n",
    "industrial = industrial.loc[:,columns]\n",
    "kindle = kindle.loc[:,columns]\n",
    "luxury_beauty = luxury_beauty.loc[:,columns]\n",
    "movies = movies.loc[:,columns]\n",
    "music = music_.loc[:,columns]\n",
    "musical_instruments = musical_instruments.loc[:,columns]\n",
    "office_products = office_products.loc[:,columns]\n",
    "patio = patio_.loc[:,columns]\n",
    "pet_supplies = pet_supplies.loc[:,columns]\n",
    "prime_pantry = prime_pantry.loc[:,columns]\n",
    "software = software.loc[:,columns]\n",
    "tools = tools.loc[:,columns]\n",
    "toys = toys.loc[:,columns]\n",
    "video_games = video_games.loc[:,columns]"
   ]
  },
  {
   "cell_type": "code",
   "execution_count": null,
   "metadata": {},
   "outputs": [],
   "source": [
    "#Concatenating all dataframes into one \n",
    "amazon_reviews = pd.concat([all_beauty, amazon_fashion, appliances, arts_crafts, automotive, cds_and_vinyl, grocery, industrial, kindle, luxury_beauty, movies, music, musical_instruments, office_products, patio, pet_supplies, prime_pantry, software, tools, toys, video_games])"
   ]
  },
  {
   "cell_type": "code",
   "execution_count": null,
   "metadata": {},
   "outputs": [],
   "source": [
    "amazon_reviews = amazon_reviews.reset_index()\n",
    "amazon_reviews = amazon_reviews.drop('index', axis = 1)"
   ]
  },
  {
   "cell_type": "code",
   "execution_count": null,
   "metadata": {},
   "outputs": [],
   "source": [
    "#This function extracts the numbers before the first letter - meant for the ranking column\n",
    "def numbers(text):\n",
    "    s = ''\n",
    "    for i in text:\n",
    "        if i == ' ' or i.isalpha():\n",
    "            break\n",
    "        else:\n",
    "            s += i\n",
    "\n",
    "    return(s)"
   ]
  },
  {
   "cell_type": "code",
   "execution_count": null,
   "metadata": {},
   "outputs": [],
   "source": [
    "#This loop takes extracts only the rank before the first letter in the ranking column\n",
    "rank = []\n",
    "\n",
    "import re\n",
    "\n",
    "for i in range(0,len(amazon_reviews)):\n",
    "    N = numbers(str(amazon_reviews['rank'][i]))\n",
    "    digits = re.findall(r\"(\\d+)\", N)\n",
    "    rank.append(\"\".join(digits))"
   ]
  },
  {
   "cell_type": "code",
   "execution_count": null,
   "metadata": {},
   "outputs": [],
   "source": [
    "#converts ranking column to numeric values\n",
    "amazon_reviews['rank'] = rank"
   ]
  },
  {
   "cell_type": "code",
   "execution_count": null,
   "metadata": {},
   "outputs": [],
   "source": [
    "amazon_reviews['rank'] = pd.to_numeric(amazon_reviews['rank'])"
   ]
  },
  {
   "cell_type": "code",
   "execution_count": null,
   "metadata": {},
   "outputs": [],
   "source": [
    "#converting reviewtime to a format that is readable\n",
    "amazon_reviews['reviewTime'] = pd.to_datetime(amazon_reviews['reviewTime'])"
   ]
  },
  {
   "cell_type": "code",
   "execution_count": null,
   "metadata": {},
   "outputs": [],
   "source": [
    "amazon_reviews.to_csv('Amazon_reviews.csv')"
   ]
  }
 ],
 "metadata": {
  "kernelspec": {
   "display_name": "Python 3",
   "language": "python",
   "name": "python3"
  },
  "language_info": {
   "codemirror_mode": {
    "name": "ipython",
    "version": 3
   },
   "file_extension": ".py",
   "mimetype": "text/x-python",
   "name": "python",
   "nbconvert_exporter": "python",
   "pygments_lexer": "ipython3",
   "version": "3.7.3"
  }
 },
 "nbformat": 4,
 "nbformat_minor": 2
}
