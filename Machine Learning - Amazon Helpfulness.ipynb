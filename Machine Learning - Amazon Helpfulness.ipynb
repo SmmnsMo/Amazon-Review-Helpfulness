{
 "cells": [
  {
   "cell_type": "code",
   "execution_count": 24,
   "metadata": {},
   "outputs": [],
   "source": [
    "import pandas as pd\n",
    "import numpy as np\n",
    "from sklearn import svm\n",
    "from sklearn.feature_extraction.text import CountVectorizer\n",
    "from sklearn.metrics import accuracy_score\n",
    "from sklearn.naive_bayes import MultinomialNB\n",
    "from sklearn.model_selection import GridSearchCV\n",
    "from sklearn.metrics import roc_auc_score"
   ]
  },
  {
   "cell_type": "code",
   "execution_count": 25,
   "metadata": {},
   "outputs": [
    {
     "name": "stderr",
     "output_type": "stream",
     "text": [
      "/Users/arensimmons/anaconda3/lib/python3.7/site-packages/IPython/core/interactiveshell.py:3057: DtypeWarning: Columns (13,15,18) have mixed types. Specify dtype option on import or set low_memory=False.\n",
      "  interactivity=interactivity, compiler=compiler, result=result)\n"
     ]
    }
   ],
   "source": [
    "reviews = pd.read_csv('Updated_reviews.csv')"
   ]
  },
  {
   "cell_type": "code",
   "execution_count": 493,
   "metadata": {},
   "outputs": [],
   "source": [
    "#Creating count vectorizer\n",
    "def make_xy(reviews, column, vectorizer=None):  \n",
    "    if vectorizer is None:\n",
    "        vectorizer = CountVectorizer()\n",
    "    X = vectorizer.fit_transform(reviews[column])\n",
    "    y = reviews['Helpful_review']\n",
    "    return X, y "
   ]
  },
  {
   "cell_type": "code",
   "execution_count": 189,
   "metadata": {},
   "outputs": [
    {
     "data": {
      "text/html": [
       "<div>\n",
       "<style scoped>\n",
       "    .dataframe tbody tr th:only-of-type {\n",
       "        vertical-align: middle;\n",
       "    }\n",
       "\n",
       "    .dataframe tbody tr th {\n",
       "        vertical-align: top;\n",
       "    }\n",
       "\n",
       "    .dataframe thead th {\n",
       "        text-align: right;\n",
       "    }\n",
       "</style>\n",
       "<table border=\"1\" class=\"dataframe\">\n",
       "  <thead>\n",
       "    <tr style=\"text-align: right;\">\n",
       "      <th></th>\n",
       "      <th>asin</th>\n",
       "      <th>overall</th>\n",
       "      <th>reviewText</th>\n",
       "      <th>reviewTime</th>\n",
       "      <th>reviewerID</th>\n",
       "      <th>reviewerName</th>\n",
       "      <th>style</th>\n",
       "      <th>summary</th>\n",
       "      <th>verified</th>\n",
       "      <th>vote</th>\n",
       "      <th>...</th>\n",
       "      <th>top_1_pct</th>\n",
       "      <th>review_length</th>\n",
       "      <th>summary_length</th>\n",
       "      <th>year</th>\n",
       "      <th>buckets</th>\n",
       "      <th>review_length_buckets</th>\n",
       "      <th>summary_length_buckets</th>\n",
       "      <th>line_breaks</th>\n",
       "      <th>lemmatized_summaries</th>\n",
       "      <th>lemmatized_reviews</th>\n",
       "    </tr>\n",
       "  </thead>\n",
       "  <tbody>\n",
       "    <tr>\n",
       "      <th>0</th>\n",
       "      <td>0143026860</td>\n",
       "      <td>5.0</td>\n",
       "      <td>Spellbound - I just could not put the book down.</td>\n",
       "      <td>2017-10-23</td>\n",
       "      <td>A1ME71SSJULX11</td>\n",
       "      <td>Vuyokazi</td>\n",
       "      <td>NaN</td>\n",
       "      <td>Spellbound</td>\n",
       "      <td>True</td>\n",
       "      <td>0</td>\n",
       "      <td>...</td>\n",
       "      <td>no</td>\n",
       "      <td>9</td>\n",
       "      <td>1</td>\n",
       "      <td>2017</td>\n",
       "      <td>0</td>\n",
       "      <td>0-50</td>\n",
       "      <td>0-5</td>\n",
       "      <td>0</td>\n",
       "      <td>Spellbound</td>\n",
       "      <td>Spellbound - I just could not put the book down.</td>\n",
       "    </tr>\n",
       "    <tr>\n",
       "      <th>1</th>\n",
       "      <td>0143026860</td>\n",
       "      <td>3.0</td>\n",
       "      <td>Before the written word, stories were passed o...</td>\n",
       "      <td>2015-05-14</td>\n",
       "      <td>A24VCDADYAIHAM</td>\n",
       "      <td>Gridley</td>\n",
       "      <td>NaN</td>\n",
       "      <td>Telling Tales as of Old</td>\n",
       "      <td>True</td>\n",
       "      <td>0</td>\n",
       "      <td>...</td>\n",
       "      <td>no</td>\n",
       "      <td>318</td>\n",
       "      <td>5</td>\n",
       "      <td>2015</td>\n",
       "      <td>0</td>\n",
       "      <td>251-500</td>\n",
       "      <td>0-5</td>\n",
       "      <td>6</td>\n",
       "      <td>Telling Tales a of Old</td>\n",
       "      <td>Before the write word, story be pass on orally...</td>\n",
       "    </tr>\n",
       "    <tr>\n",
       "      <th>2</th>\n",
       "      <td>0143026860</td>\n",
       "      <td>5.0</td>\n",
       "      <td>Enjoyed book, written very well</td>\n",
       "      <td>2017-05-26</td>\n",
       "      <td>A1WR0R3LZVUEU3</td>\n",
       "      <td>Addie Woods</td>\n",
       "      <td>NaN</td>\n",
       "      <td>Buy the book</td>\n",
       "      <td>True</td>\n",
       "      <td>0</td>\n",
       "      <td>...</td>\n",
       "      <td>no</td>\n",
       "      <td>5</td>\n",
       "      <td>3</td>\n",
       "      <td>2017</td>\n",
       "      <td>0</td>\n",
       "      <td>0-50</td>\n",
       "      <td>0-5</td>\n",
       "      <td>0</td>\n",
       "      <td>Buy the book</td>\n",
       "      <td>Enjoyed book, write very well</td>\n",
       "    </tr>\n",
       "    <tr>\n",
       "      <th>3</th>\n",
       "      <td>0143026860</td>\n",
       "      <td>5.0</td>\n",
       "      <td>This was a good story of the Black leagues. I ...</td>\n",
       "      <td>2011-12-25</td>\n",
       "      <td>A6IKXKZMTKGSC</td>\n",
       "      <td>shoecanary</td>\n",
       "      <td>NaN</td>\n",
       "      <td>More than facts, a good story read!</td>\n",
       "      <td>True</td>\n",
       "      <td>5</td>\n",
       "      <td>...</td>\n",
       "      <td>no</td>\n",
       "      <td>68</td>\n",
       "      <td>7</td>\n",
       "      <td>2011</td>\n",
       "      <td>0</td>\n",
       "      <td>51-100</td>\n",
       "      <td>6-10</td>\n",
       "      <td>0</td>\n",
       "      <td>More than facts, a good story read!</td>\n",
       "      <td>This be a good story of the Black leagues. I b...</td>\n",
       "    </tr>\n",
       "    <tr>\n",
       "      <th>4</th>\n",
       "      <td>0143026860</td>\n",
       "      <td>5.0</td>\n",
       "      <td>okay</td>\n",
       "      <td>2016-09-13</td>\n",
       "      <td>A1QH9MVF3HPZIP</td>\n",
       "      <td>Bicentennial Union High District #76</td>\n",
       "      <td>NaN</td>\n",
       "      <td>Five Stars</td>\n",
       "      <td>True</td>\n",
       "      <td>0</td>\n",
       "      <td>...</td>\n",
       "      <td>no</td>\n",
       "      <td>1</td>\n",
       "      <td>2</td>\n",
       "      <td>2016</td>\n",
       "      <td>0</td>\n",
       "      <td>0-50</td>\n",
       "      <td>0-5</td>\n",
       "      <td>0</td>\n",
       "      <td>Five Stars</td>\n",
       "      <td>okay</td>\n",
       "    </tr>\n",
       "  </tbody>\n",
       "</table>\n",
       "<p>5 rows × 33 columns</p>\n",
       "</div>"
      ],
      "text/plain": [
       "         asin  overall                                         reviewText  \\\n",
       "0  0143026860      5.0   Spellbound - I just could not put the book down.   \n",
       "1  0143026860      3.0  Before the written word, stories were passed o...   \n",
       "2  0143026860      5.0                    Enjoyed book, written very well   \n",
       "3  0143026860      5.0  This was a good story of the Black leagues. I ...   \n",
       "4  0143026860      5.0                                               okay   \n",
       "\n",
       "   reviewTime      reviewerID                          reviewerName style  \\\n",
       "0  2017-10-23  A1ME71SSJULX11                              Vuyokazi   NaN   \n",
       "1  2015-05-14  A24VCDADYAIHAM                               Gridley   NaN   \n",
       "2  2017-05-26  A1WR0R3LZVUEU3                           Addie Woods   NaN   \n",
       "3  2011-12-25   A6IKXKZMTKGSC                            shoecanary   NaN   \n",
       "4  2016-09-13  A1QH9MVF3HPZIP  Bicentennial Union High District #76   NaN   \n",
       "\n",
       "                               summary  verified  vote  ... top_1_pct  \\\n",
       "0                           Spellbound      True     0  ...        no   \n",
       "1              Telling Tales as of Old      True     0  ...        no   \n",
       "2                         Buy the book      True     0  ...        no   \n",
       "3  More than facts, a good story read!      True     5  ...        no   \n",
       "4                           Five Stars      True     0  ...        no   \n",
       "\n",
       "  review_length summary_length  year buckets review_length_buckets  \\\n",
       "0             9              1  2017       0                  0-50   \n",
       "1           318              5  2015       0               251-500   \n",
       "2             5              3  2017       0                  0-50   \n",
       "3            68              7  2011       0                51-100   \n",
       "4             1              2  2016       0                  0-50   \n",
       "\n",
       "   summary_length_buckets line_breaks                 lemmatized_summaries  \\\n",
       "0                     0-5           0                           Spellbound   \n",
       "1                     0-5           6               Telling Tales a of Old   \n",
       "2                     0-5           0                         Buy the book   \n",
       "3                    6-10           0  More than facts, a good story read!   \n",
       "4                     0-5           0                           Five Stars   \n",
       "\n",
       "                                  lemmatized_reviews  \n",
       "0   Spellbound - I just could not put the book down.  \n",
       "1  Before the write word, story be pass on orally...  \n",
       "2                      Enjoyed book, write very well  \n",
       "3  This be a good story of the Black leagues. I b...  \n",
       "4                                               okay  \n",
       "\n",
       "[5 rows x 33 columns]"
      ]
     },
     "execution_count": 189,
     "metadata": {},
     "output_type": "execute_result"
    }
   ],
   "source": [
    "reviews.head()"
   ]
  },
  {
   "cell_type": "code",
   "execution_count": 27,
   "metadata": {},
   "outputs": [],
   "source": [
    "reviews = reviews.drop('Unnamed: 0', axis = 1)"
   ]
  },
  {
   "cell_type": "code",
   "execution_count": 28,
   "metadata": {},
   "outputs": [],
   "source": [
    "reviews['reviewText'] = reviews['reviewText'].astype(str)"
   ]
  },
  {
   "cell_type": "code",
   "execution_count": 29,
   "metadata": {},
   "outputs": [],
   "source": [
    "reviews['lemmatized_reviews'] = reviews['lemmatized_reviews'].astype(str)"
   ]
  },
  {
   "cell_type": "code",
   "execution_count": 377,
   "metadata": {},
   "outputs": [],
   "source": [
    "x,y = make_xy(reviews, 'lemmatized_reviews')"
   ]
  },
  {
   "cell_type": "code",
   "execution_count": 460,
   "metadata": {},
   "outputs": [],
   "source": [
    "X = reviews.drop('Helpful_review', axis = 1)\n",
    "Y = reviews['Helpful_review'] #Creating X and Y for reviews"
   ]
  },
  {
   "cell_type": "code",
   "execution_count": 546,
   "metadata": {},
   "outputs": [],
   "source": [
    "test_set_df = reviews[reviews.index.isin(test_index)] \n",
    "#Creating a consistent test set to test same sets"
   ]
  },
  {
   "cell_type": "code",
   "execution_count": 547,
   "metadata": {},
   "outputs": [],
   "source": [
    "training_set_df = reviews[reviews.index.isin(train_index)] \n",
    "#Creating a consistent training set so I can use the same training sets "
   ]
  },
  {
   "cell_type": "code",
   "execution_count": 527,
   "metadata": {},
   "outputs": [],
   "source": [
    "test_index = list(Y_test.index)"
   ]
  },
  {
   "cell_type": "code",
   "execution_count": 535,
   "metadata": {},
   "outputs": [],
   "source": [
    "train_index = []"
   ]
  },
  {
   "cell_type": "code",
   "execution_count": 545,
   "metadata": {},
   "outputs": [],
   "source": [
    "train_index = []\n",
    "for i in range(0, len(reviews)):\n",
    "    if rev_ind[i] not in test_index:\n",
    "        train_index.append(i)"
   ]
  },
  {
   "cell_type": "code",
   "execution_count": 546,
   "metadata": {},
   "outputs": [],
   "source": [
    "test_set_df = reviews[reviews.index.isin(test_index)]"
   ]
  },
  {
   "cell_type": "code",
   "execution_count": 547,
   "metadata": {},
   "outputs": [],
   "source": [
    "training_set_df = reviews[reviews.index.isin(train_index)]"
   ]
  },
  {
   "cell_type": "markdown",
   "metadata": {},
   "source": [
    "I will be creating multiple text classifiers to see which type performs the best."
   ]
  },
  {
   "cell_type": "code",
   "execution_count": 881,
   "metadata": {},
   "outputs": [],
   "source": [
    "clf = MultinomialNB()"
   ]
  },
  {
   "cell_type": "code",
   "execution_count": 472,
   "metadata": {},
   "outputs": [
    {
     "data": {
      "text/plain": [
       "{'alpha': 1.0, 'class_prior': None, 'fit_prior': True}"
      ]
     },
     "execution_count": 472,
     "metadata": {},
     "output_type": "execute_result"
    }
   ],
   "source": [
    "clf.get_params()"
   ]
  },
  {
   "cell_type": "code",
   "execution_count": 924,
   "metadata": {},
   "outputs": [],
   "source": [
    "clf_param_grid = {'alpha': [.1,.5,1]}\n",
    "clf_NB_CV_overall = GridSearchCV(clf, clf_param_grid, cv = 5).fit(x[train_index], y[train_index])"
   ]
  },
  {
   "cell_type": "code",
   "execution_count": 35,
   "metadata": {},
   "outputs": [],
   "source": [
    "from sklearn.metrics import balanced_accuracy_score"
   ]
  },
  {
   "cell_type": "code",
   "execution_count": 599,
   "metadata": {
    "scrolled": true
   },
   "outputs": [
    {
     "data": {
      "text/plain": [
       "0.633310035609119"
      ]
     },
     "execution_count": 599,
     "metadata": {},
     "output_type": "execute_result"
    }
   ],
   "source": [
    "NB_score = balanced_accuracy_score(y[test_index], clf_NB_CV_overall.predict(x[test_index]))\n",
    "NB_score"
   ]
  },
  {
   "cell_type": "code",
   "execution_count": 936,
   "metadata": {},
   "outputs": [],
   "source": [
    "NB_roc_score = roc_auc_score(y[test_index], clf_NB_CV_overall.predict_proba(x[test_index])[:,1])"
   ]
  },
  {
   "cell_type": "code",
   "execution_count": 937,
   "metadata": {},
   "outputs": [
    {
     "data": {
      "text/plain": [
       "0.5889194087853167"
      ]
     },
     "execution_count": 937,
     "metadata": {},
     "output_type": "execute_result"
    }
   ],
   "source": [
    "NB_roc_score"
   ]
  },
  {
   "cell_type": "code",
   "execution_count": 38,
   "metadata": {},
   "outputs": [
    {
     "name": "stderr",
     "output_type": "stream",
     "text": [
      "/Users/arensimmons/anaconda3/lib/python3.7/site-packages/sklearn/ensemble/forest.py:245: FutureWarning: The default value of n_estimators will change from 10 in version 0.20 to 100 in 0.22.\n",
      "  \"10 in version 0.20 to 100 in 0.22.\", FutureWarning)\n"
     ]
    },
    {
     "data": {
      "text/plain": [
       "RandomForestClassifier(bootstrap=True, class_weight=None, criterion='gini',\n",
       "                       max_depth=None, max_features='auto', max_leaf_nodes=None,\n",
       "                       min_impurity_decrease=0.0, min_impurity_split=None,\n",
       "                       min_samples_leaf=1, min_samples_split=2,\n",
       "                       min_weight_fraction_leaf=0.0, n_estimators=10,\n",
       "                       n_jobs=None, oob_score=False, random_state=None,\n",
       "                       verbose=0, warm_start=False)"
      ]
     },
     "execution_count": 38,
     "metadata": {},
     "output_type": "execute_result"
    }
   ],
   "source": [
    "from sklearn.ensemble import RandomForestClassifier\n",
    "clf_rf = RandomForestClassifier()\n",
    "clf_rf.fit(X_train, Y_train)"
   ]
  },
  {
   "cell_type": "code",
   "execution_count": 39,
   "metadata": {
    "scrolled": true
   },
   "outputs": [
    {
     "data": {
      "text/plain": [
       "{'bootstrap': True,\n",
       " 'class_weight': None,\n",
       " 'criterion': 'gini',\n",
       " 'max_depth': None,\n",
       " 'max_features': 'auto',\n",
       " 'max_leaf_nodes': None,\n",
       " 'min_impurity_decrease': 0.0,\n",
       " 'min_impurity_split': None,\n",
       " 'min_samples_leaf': 1,\n",
       " 'min_samples_split': 2,\n",
       " 'min_weight_fraction_leaf': 0.0,\n",
       " 'n_estimators': 10,\n",
       " 'n_jobs': None,\n",
       " 'oob_score': False,\n",
       " 'random_state': None,\n",
       " 'verbose': 0,\n",
       " 'warm_start': False}"
      ]
     },
     "execution_count": 39,
     "metadata": {},
     "output_type": "execute_result"
    }
   ],
   "source": [
    "clf_rf.get_params()"
   ]
  },
  {
   "cell_type": "code",
   "execution_count": 40,
   "metadata": {},
   "outputs": [],
   "source": [
    "param_grid_rf = {'n_estimators': [5,10,15]}"
   ]
  },
  {
   "cell_type": "code",
   "execution_count": 600,
   "metadata": {},
   "outputs": [],
   "source": [
    "clf_rf_CV = GridSearchCV(clf_rf, param_grid_rf, cv = 5).fit(x[train_index], y[train_index])"
   ]
  },
  {
   "cell_type": "code",
   "execution_count": 602,
   "metadata": {},
   "outputs": [
    {
     "data": {
      "text/plain": [
       "0.5800652531861668"
      ]
     },
     "execution_count": 602,
     "metadata": {},
     "output_type": "execute_result"
    }
   ],
   "source": [
    "rf_score = balanced_accuracy_score(y[test_index], clf_rf_CV.predict(x[test_index]))\n",
    "rf_score"
   ]
  },
  {
   "cell_type": "code",
   "execution_count": 43,
   "metadata": {},
   "outputs": [],
   "source": [
    "from sklearn.linear_model import SGDClassifier"
   ]
  },
  {
   "cell_type": "code",
   "execution_count": 44,
   "metadata": {},
   "outputs": [],
   "source": [
    "clf_SGDC = SGDClassifier()"
   ]
  },
  {
   "cell_type": "code",
   "execution_count": 45,
   "metadata": {},
   "outputs": [
    {
     "data": {
      "text/plain": [
       "{'alpha': 0.0001,\n",
       " 'average': False,\n",
       " 'class_weight': None,\n",
       " 'early_stopping': False,\n",
       " 'epsilon': 0.1,\n",
       " 'eta0': 0.0,\n",
       " 'fit_intercept': True,\n",
       " 'l1_ratio': 0.15,\n",
       " 'learning_rate': 'optimal',\n",
       " 'loss': 'hinge',\n",
       " 'max_iter': 1000,\n",
       " 'n_iter_no_change': 5,\n",
       " 'n_jobs': None,\n",
       " 'penalty': 'l2',\n",
       " 'power_t': 0.5,\n",
       " 'random_state': None,\n",
       " 'shuffle': True,\n",
       " 'tol': 0.001,\n",
       " 'validation_fraction': 0.1,\n",
       " 'verbose': 0,\n",
       " 'warm_start': False}"
      ]
     },
     "execution_count": 45,
     "metadata": {},
     "output_type": "execute_result"
    }
   ],
   "source": [
    "clf_SGDC.get_params()"
   ]
  },
  {
   "cell_type": "code",
   "execution_count": 1043,
   "metadata": {},
   "outputs": [],
   "source": [
    "param_grid_SGDC = {'alpha': [.0001, .001, .01, 1], 'loss':['log']}"
   ]
  },
  {
   "cell_type": "code",
   "execution_count": 1044,
   "metadata": {},
   "outputs": [],
   "source": [
    "clf_SGDC_CV = GridSearchCV(clf_SGDC, param_grid_SGDC, cv = 5).fit(x[train_index], y[train_index])"
   ]
  },
  {
   "cell_type": "code",
   "execution_count": 604,
   "metadata": {},
   "outputs": [
    {
     "data": {
      "text/plain": [
       "0.5501417425773983"
      ]
     },
     "execution_count": 604,
     "metadata": {},
     "output_type": "execute_result"
    }
   ],
   "source": [
    "SGDC_score = balanced_accuracy_score(Y_test, clf_SGDC_CV.predict(x[test_index]))\n",
    "SGDC_score"
   ]
  },
  {
   "cell_type": "code",
   "execution_count": 49,
   "metadata": {},
   "outputs": [],
   "source": [
    "from sklearn.svm import LinearSVC"
   ]
  },
  {
   "cell_type": "code",
   "execution_count": 50,
   "metadata": {},
   "outputs": [],
   "source": [
    "clf_LSVC = LinearSVC()"
   ]
  },
  {
   "cell_type": "code",
   "execution_count": 51,
   "metadata": {},
   "outputs": [
    {
     "data": {
      "text/plain": [
       "{'C': 1.0,\n",
       " 'class_weight': None,\n",
       " 'dual': True,\n",
       " 'fit_intercept': True,\n",
       " 'intercept_scaling': 1,\n",
       " 'loss': 'squared_hinge',\n",
       " 'max_iter': 1000,\n",
       " 'multi_class': 'ovr',\n",
       " 'penalty': 'l2',\n",
       " 'random_state': None,\n",
       " 'tol': 0.0001,\n",
       " 'verbose': 0}"
      ]
     },
     "execution_count": 51,
     "metadata": {},
     "output_type": "execute_result"
    }
   ],
   "source": [
    "clf_LSVC.get_params()"
   ]
  },
  {
   "cell_type": "code",
   "execution_count": 52,
   "metadata": {},
   "outputs": [],
   "source": [
    "param_grid_lsvc = {'C': [.01,.1,1,10]}"
   ]
  },
  {
   "cell_type": "code",
   "execution_count": 605,
   "metadata": {},
   "outputs": [
    {
     "name": "stderr",
     "output_type": "stream",
     "text": [
      "/Users/arensimmons/anaconda3/lib/python3.7/site-packages/sklearn/svm/base.py:929: ConvergenceWarning: Liblinear failed to converge, increase the number of iterations.\n",
      "  \"the number of iterations.\", ConvergenceWarning)\n"
     ]
    }
   ],
   "source": [
    "clf_LSVC_CV = GridSearchCV(clf_LSVC, param_grid_lsvc, cv = 5).fit(x[train_index], y[train_index])"
   ]
  },
  {
   "cell_type": "code",
   "execution_count": 606,
   "metadata": {},
   "outputs": [
    {
     "data": {
      "text/plain": [
       "0.6004368739281801"
      ]
     },
     "execution_count": 606,
     "metadata": {},
     "output_type": "execute_result"
    }
   ],
   "source": [
    "LSVC_score = balanced_accuracy_score(Y_test, clf_LSVC_CV.predict(x[test_index]))\n",
    "LSVC_score"
   ]
  },
  {
   "cell_type": "code",
   "execution_count": 55,
   "metadata": {},
   "outputs": [],
   "source": [
    "from sklearn.linear_model import LogisticRegression"
   ]
  },
  {
   "cell_type": "code",
   "execution_count": 56,
   "metadata": {},
   "outputs": [],
   "source": [
    "clf_log = LogisticRegression()"
   ]
  },
  {
   "cell_type": "code",
   "execution_count": 57,
   "metadata": {},
   "outputs": [
    {
     "data": {
      "text/plain": [
       "{'C': 1.0,\n",
       " 'class_weight': None,\n",
       " 'dual': False,\n",
       " 'fit_intercept': True,\n",
       " 'intercept_scaling': 1,\n",
       " 'l1_ratio': None,\n",
       " 'max_iter': 100,\n",
       " 'multi_class': 'warn',\n",
       " 'n_jobs': None,\n",
       " 'penalty': 'l2',\n",
       " 'random_state': None,\n",
       " 'solver': 'warn',\n",
       " 'tol': 0.0001,\n",
       " 'verbose': 0,\n",
       " 'warm_start': False}"
      ]
     },
     "execution_count": 57,
     "metadata": {},
     "output_type": "execute_result"
    }
   ],
   "source": [
    "clf_log.get_params()"
   ]
  },
  {
   "cell_type": "code",
   "execution_count": 607,
   "metadata": {},
   "outputs": [
    {
     "name": "stderr",
     "output_type": "stream",
     "text": [
      "/Users/arensimmons/anaconda3/lib/python3.7/site-packages/sklearn/linear_model/logistic.py:432: FutureWarning: Default solver will be changed to 'lbfgs' in 0.22. Specify a solver to silence this warning.\n",
      "  FutureWarning)\n",
      "/Users/arensimmons/anaconda3/lib/python3.7/site-packages/sklearn/svm/base.py:929: ConvergenceWarning: Liblinear failed to converge, increase the number of iterations.\n",
      "  \"the number of iterations.\", ConvergenceWarning)\n"
     ]
    }
   ],
   "source": [
    "param_grid = {'penalty': ['l1', 'l2'], 'C': [.01,.1,1,10]}\n",
    "clf_log_CV = GridSearchCV(clf_log, param_grid, cv = 5).fit(x[train_index], y[train_index])"
   ]
  },
  {
   "cell_type": "code",
   "execution_count": 608,
   "metadata": {},
   "outputs": [
    {
     "data": {
      "text/plain": [
       "0.574724962249412"
      ]
     },
     "execution_count": 608,
     "metadata": {},
     "output_type": "execute_result"
    }
   ],
   "source": [
    "Log_reg_score = balanced_accuracy_score(y[test_index], clf_log_CV.predict(x[test_index]))\n",
    "Log_reg_score"
   ]
  },
  {
   "cell_type": "code",
   "execution_count": 60,
   "metadata": {},
   "outputs": [],
   "source": [
    "X_sum, Y_sum = make_xy(reviews, 'lemmatized_summaries')"
   ]
  },
  {
   "cell_type": "code",
   "execution_count": 1299,
   "metadata": {},
   "outputs": [],
   "source": [
    "param_grid_sum_SGDC = {'alpha': [.0001, .001, .01, 1], 'loss' : ['log']}\n",
    "clf_sum_SGDC_CV = GridSearchCV(clf_SGDC, param_grid_sum_SGDC, cv = 5).fit(X_sum[train_index], Y_sum[train_index])"
   ]
  },
  {
   "cell_type": "code",
   "execution_count": 611,
   "metadata": {},
   "outputs": [
    {
     "data": {
      "text/plain": [
       "0.5"
      ]
     },
     "execution_count": 611,
     "metadata": {},
     "output_type": "execute_result"
    }
   ],
   "source": [
    "clf_sum_SGDC_CV_score = balanced_accuracy_score(Y_sum[test_index], clf_sum_SGDC_CV.predict(X_sum[test_index]))\n",
    "clf_sum_SGDC_CV_score"
   ]
  },
  {
   "cell_type": "code",
   "execution_count": 612,
   "metadata": {},
   "outputs": [],
   "source": [
    "clf_sum_NB = GridSearchCV(clf, clf_param_grid, cv = 5).fit(X_sum[train_index], Y_sum[train_index])"
   ]
  },
  {
   "cell_type": "code",
   "execution_count": 613,
   "metadata": {},
   "outputs": [
    {
     "data": {
      "text/plain": [
       "0.5672020230427373"
      ]
     },
     "execution_count": 613,
     "metadata": {},
     "output_type": "execute_result"
    }
   ],
   "source": [
    "clf_sum_NB_score = balanced_accuracy_score(Y_sum[test_index], clf_sum_NB.predict(X_sum[test_index]))\n",
    "clf_sum_NB_score"
   ]
  },
  {
   "cell_type": "code",
   "execution_count": 614,
   "metadata": {},
   "outputs": [],
   "source": [
    "rf_sum = GridSearchCV(clf_rf, param_grid_rf, cv = 5).fit(X_sum[train_index], Y_sum[train_index])"
   ]
  },
  {
   "cell_type": "code",
   "execution_count": 615,
   "metadata": {},
   "outputs": [
    {
     "data": {
      "text/plain": [
       "0.5391935020589124"
      ]
     },
     "execution_count": 615,
     "metadata": {},
     "output_type": "execute_result"
    }
   ],
   "source": [
    "rf_sum_score = balanced_accuracy_score(Y_sum[test_index], rf_sum.predict(X_sum[test_index]))\n",
    "rf_sum_score"
   ]
  },
  {
   "cell_type": "code",
   "execution_count": 616,
   "metadata": {},
   "outputs": [
    {
     "name": "stderr",
     "output_type": "stream",
     "text": [
      "/Users/arensimmons/anaconda3/lib/python3.7/site-packages/sklearn/svm/base.py:929: ConvergenceWarning: Liblinear failed to converge, increase the number of iterations.\n",
      "  \"the number of iterations.\", ConvergenceWarning)\n"
     ]
    }
   ],
   "source": [
    "LSVC_sum = GridSearchCV(clf_LSVC, param_grid_lsvc, cv = 5).fit(X_sum[train_index], Y_sum[train_index])"
   ]
  },
  {
   "cell_type": "code",
   "execution_count": 617,
   "metadata": {},
   "outputs": [
    {
     "data": {
      "text/plain": [
       "0.5065244586965831"
      ]
     },
     "execution_count": 617,
     "metadata": {},
     "output_type": "execute_result"
    }
   ],
   "source": [
    "LSVC_sum_score = balanced_accuracy_score(Y_sum[test_index], LSVC_sum.predict(X_sum[test_index]))\n",
    "LSVC_sum_score"
   ]
  },
  {
   "cell_type": "code",
   "execution_count": 618,
   "metadata": {},
   "outputs": [
    {
     "name": "stderr",
     "output_type": "stream",
     "text": [
      "/Users/arensimmons/anaconda3/lib/python3.7/site-packages/sklearn/linear_model/logistic.py:432: FutureWarning: Default solver will be changed to 'lbfgs' in 0.22. Specify a solver to silence this warning.\n",
      "  FutureWarning)\n"
     ]
    }
   ],
   "source": [
    "Log_reg_sum = GridSearchCV(clf_log, param_grid, cv=5).fit(X_sum[train_index], Y_sum[train_index])"
   ]
  },
  {
   "cell_type": "code",
   "execution_count": 619,
   "metadata": {},
   "outputs": [
    {
     "data": {
      "text/plain": [
       "0.5"
      ]
     },
     "execution_count": 619,
     "metadata": {},
     "output_type": "execute_result"
    }
   ],
   "source": [
    "Log_reg_sum_score = balanced_accuracy_score(Y_sum[test_index], Log_reg_sum.predict(X_sum[test_index]))\n",
    "Log_reg_sum_score"
   ]
  },
  {
   "cell_type": "code",
   "execution_count": null,
   "metadata": {},
   "outputs": [],
   "source": [
    "#Adding multiple features to the model - lemmatized reviews, lemmatized summaries, year, review length, summary length"
   ]
  },
  {
   "cell_type": "code",
   "execution_count": 803,
   "metadata": {},
   "outputs": [],
   "source": [
    "from scipy.sparse import hstack"
   ]
  },
  {
   "cell_type": "code",
   "execution_count": 838,
   "metadata": {},
   "outputs": [],
   "source": [
    "from sklearn.preprocessing import OneHotEncoder\n",
    "from sklearn.preprocessing import LabelEncoder"
   ]
  },
  {
   "cell_type": "code",
   "execution_count": 839,
   "metadata": {},
   "outputs": [],
   "source": [
    "enc = OneHotEncoder()\n",
    "label_enc = LabelEncoder()"
   ]
  },
  {
   "cell_type": "code",
   "execution_count": 815,
   "metadata": {},
   "outputs": [],
   "source": [
    "encoded_categories = enc.fit(reviews[['year','summary_length_buckets','review_length_buckets']])"
   ]
  },
  {
   "cell_type": "code",
   "execution_count": 855,
   "metadata": {},
   "outputs": [],
   "source": [
    "years = reviews['year']\n",
    "summary_buckets = reviews['summary_length_buckets']\n",
    "review_buckets = reviews['review_length_buckets']"
   ]
  },
  {
   "cell_type": "code",
   "execution_count": 864,
   "metadata": {},
   "outputs": [],
   "source": [
    "label_encoded_years = label_enc.fit_transform(np.array(years))\n",
    "label_encoded_sum_L = label_enc.fit_transform(np.array(summary_buckets))\n",
    "label_encoded_review_L = label_enc.fit_transform(np.array(review_buckets))"
   ]
  },
  {
   "cell_type": "code",
   "execution_count": 866,
   "metadata": {},
   "outputs": [],
   "source": [
    "label_encoded_years = label_encoded_years.reshape(len(label_encoded), 1)\n",
    "label_encoded_sum_L = label_encoded_sum_L.reshape(len(label_encoded), 1)\n",
    "label_encoded_review_L = label_encoded_review_L.reshape(len(label_encoded), 1)"
   ]
  },
  {
   "cell_type": "code",
   "execution_count": 868,
   "metadata": {},
   "outputs": [],
   "source": [
    "onehot_enc_years = enc.fit_transform(label_encoded_years)\n",
    "onehot_enc_sum_L = enc.fit_transform(label_encoded_sum_L)\n",
    "onehot_enc_review_L = enc.fit_transform(label_encoded_review_L)"
   ]
  },
  {
   "cell_type": "code",
   "execution_count": 872,
   "metadata": {},
   "outputs": [],
   "source": [
    "onehot_enc_years = onehot_enc_years.tocsc()\n",
    "onehot_enc_sum_L = onehot_enc_sum_L.tocsc()\n",
    "onehot_enc_review_L = onehot_enc_review_L.tocsc()"
   ]
  },
  {
   "cell_type": "code",
   "execution_count": 878,
   "metadata": {},
   "outputs": [],
   "source": [
    "X_total = hstack([onehot_enc_years, onehot_enc_sum_L, onehot_enc_review_L, x, X_sum]).tocsc()"
   ]
  },
  {
   "cell_type": "code",
   "execution_count": 883,
   "metadata": {},
   "outputs": [],
   "source": [
    "clf_NB_param_grid = {'alpha': [.1,.5,1]}\n",
    "clf_NB_CV_total = GridSearchCV(clf, clf_param_grid, cv = 5).fit(X_total[train_index], y[train_index])"
   ]
  },
  {
   "cell_type": "code",
   "execution_count": 886,
   "metadata": {},
   "outputs": [
    {
     "data": {
      "text/plain": [
       "0.6823374878322167"
      ]
     },
     "execution_count": 886,
     "metadata": {},
     "output_type": "execute_result"
    }
   ],
   "source": [
    "NB_total_score = balanced_accuracy_score(y[test_index], clf_NB_CV_total.predict(X_total[test_index]))\n",
    "NB_total_score"
   ]
  },
  {
   "cell_type": "code",
   "execution_count": 890,
   "metadata": {},
   "outputs": [],
   "source": [
    "clf_rf_CV_total = GridSearchCV(clf_rf, param_grid_rf, cv = 5).fit(X_total[train_index], y[train_index])"
   ]
  },
  {
   "cell_type": "code",
   "execution_count": 892,
   "metadata": {},
   "outputs": [
    {
     "data": {
      "text/plain": [
       "0.5862594819001397"
      ]
     },
     "execution_count": 892,
     "metadata": {},
     "output_type": "execute_result"
    }
   ],
   "source": [
    "RF_total_score = balanced_accuracy_score(y[test_index], clf_rf_CV_total.predict(X_total[test_index]))\n",
    "RF_total_score"
   ]
  },
  {
   "cell_type": "code",
   "execution_count": 1047,
   "metadata": {},
   "outputs": [],
   "source": [
    "clf_SGDC_total = GridSearchCV(clf_SGDC, param_grid_SGDC, cv = 5).fit(X_total[train_index], y[train_index])"
   ]
  },
  {
   "cell_type": "code",
   "execution_count": 1048,
   "metadata": {},
   "outputs": [
    {
     "data": {
      "text/plain": [
       "0.63275228232648"
      ]
     },
     "execution_count": 1048,
     "metadata": {},
     "output_type": "execute_result"
    }
   ],
   "source": [
    "clf_SGDC_total_score = balanced_accuracy_score(y[test_index], clf_SGDC_total.predict(X_total[test_index]))\n",
    "clf_SGDC_total_score"
   ]
  },
  {
   "cell_type": "code",
   "execution_count": 893,
   "metadata": {},
   "outputs": [
    {
     "name": "stderr",
     "output_type": "stream",
     "text": [
      "/Users/arensimmons/anaconda3/lib/python3.7/site-packages/sklearn/svm/base.py:929: ConvergenceWarning: Liblinear failed to converge, increase the number of iterations.\n",
      "  \"the number of iterations.\", ConvergenceWarning)\n"
     ]
    }
   ],
   "source": [
    "LSVC_total = GridSearchCV(clf_LSVC, param_grid_lsvc, cv = 5).fit(X_total[train_index], y[train_index])"
   ]
  },
  {
   "cell_type": "code",
   "execution_count": 894,
   "metadata": {},
   "outputs": [
    {
     "data": {
      "text/plain": [
       "0.6417232427819664"
      ]
     },
     "execution_count": 894,
     "metadata": {},
     "output_type": "execute_result"
    }
   ],
   "source": [
    "LSVC_total_score = balanced_accuracy_score(y[test_index], LSVC_total.predict(X_total[test_index]))\n",
    "LSVC_total_score"
   ]
  },
  {
   "cell_type": "code",
   "execution_count": 899,
   "metadata": {},
   "outputs": [
    {
     "name": "stderr",
     "output_type": "stream",
     "text": [
      "/Users/arensimmons/anaconda3/lib/python3.7/site-packages/sklearn/linear_model/logistic.py:432: FutureWarning: Default solver will be changed to 'lbfgs' in 0.22. Specify a solver to silence this warning.\n",
      "  FutureWarning)\n",
      "/Users/arensimmons/anaconda3/lib/python3.7/site-packages/sklearn/svm/base.py:929: ConvergenceWarning: Liblinear failed to converge, increase the number of iterations.\n",
      "  \"the number of iterations.\", ConvergenceWarning)\n"
     ]
    }
   ],
   "source": [
    "clf_log_reg_total = GridSearchCV(clf_log, param_grid, cv = 5).fit(X_total[train_index], y[train_index])"
   ]
  },
  {
   "cell_type": "code",
   "execution_count": 900,
   "metadata": {},
   "outputs": [
    {
     "data": {
      "text/plain": [
       "0.639301232863883"
      ]
     },
     "execution_count": 900,
     "metadata": {},
     "output_type": "execute_result"
    }
   ],
   "source": [
    "clf_log_reg_total_score = balanced_accuracy_score(y[test_index], clf_log_reg_total.predict(X_total[test_index]))\n",
    "clf_log_reg_total_score"
   ]
  },
  {
   "cell_type": "code",
   "execution_count": 1049,
   "metadata": {},
   "outputs": [],
   "source": [
    "Models = ['Naive Bayes', 'Random Forest', 'SGDC', 'LSVC', 'Logistic Regression']\n",
    "Review_Scores = [NB_score, rf_score, SGDC_score, LSVC_score, Log_reg_score]\n",
    "Summary_Scores = [clf_sum_NB_score, rf_sum_score, clf_sum_SGDC_CV_score, LSVC_sum_score, Log_reg_sum_score]\n",
    "Total_Scores = [NB_total_score, RF_total_score, clf_SGDC_total_score, LSVC_total_score, clf_log_reg_total_score]"
   ]
  },
  {
   "cell_type": "code",
   "execution_count": 1050,
   "metadata": {},
   "outputs": [],
   "source": [
    "baseline_scores = pd.DataFrame(data = [Models, Review_Scores, Summary_Scores, Total_Scores])"
   ]
  },
  {
   "cell_type": "code",
   "execution_count": 1051,
   "metadata": {},
   "outputs": [],
   "source": [
    "baseline_scores = baseline_scores.T"
   ]
  },
  {
   "cell_type": "code",
   "execution_count": 1052,
   "metadata": {},
   "outputs": [
    {
     "data": {
      "text/html": [
       "<div>\n",
       "<style scoped>\n",
       "    .dataframe tbody tr th:only-of-type {\n",
       "        vertical-align: middle;\n",
       "    }\n",
       "\n",
       "    .dataframe tbody tr th {\n",
       "        vertical-align: top;\n",
       "    }\n",
       "\n",
       "    .dataframe thead th {\n",
       "        text-align: right;\n",
       "    }\n",
       "</style>\n",
       "<table border=\"1\" class=\"dataframe\">\n",
       "  <thead>\n",
       "    <tr style=\"text-align: right;\">\n",
       "      <th></th>\n",
       "      <th>Models</th>\n",
       "      <th>Review_Scores</th>\n",
       "      <th>Summary_Scores</th>\n",
       "      <th>Total_Scores</th>\n",
       "    </tr>\n",
       "  </thead>\n",
       "  <tbody>\n",
       "    <tr>\n",
       "      <th>0</th>\n",
       "      <td>Naive Bayes</td>\n",
       "      <td>0.63331</td>\n",
       "      <td>0.567202</td>\n",
       "      <td>0.682337</td>\n",
       "    </tr>\n",
       "    <tr>\n",
       "      <th>1</th>\n",
       "      <td>Random Forest</td>\n",
       "      <td>0.580065</td>\n",
       "      <td>0.539194</td>\n",
       "      <td>0.586259</td>\n",
       "    </tr>\n",
       "    <tr>\n",
       "      <th>2</th>\n",
       "      <td>SGDC</td>\n",
       "      <td>0.550142</td>\n",
       "      <td>0.5</td>\n",
       "      <td>0.632752</td>\n",
       "    </tr>\n",
       "    <tr>\n",
       "      <th>3</th>\n",
       "      <td>LSVC</td>\n",
       "      <td>0.600437</td>\n",
       "      <td>0.506524</td>\n",
       "      <td>0.641723</td>\n",
       "    </tr>\n",
       "    <tr>\n",
       "      <th>4</th>\n",
       "      <td>Logistic Regression</td>\n",
       "      <td>0.574725</td>\n",
       "      <td>0.5</td>\n",
       "      <td>0.639301</td>\n",
       "    </tr>\n",
       "  </tbody>\n",
       "</table>\n",
       "</div>"
      ],
      "text/plain": [
       "                Models Review_Scores Summary_Scores Total_Scores\n",
       "0          Naive Bayes       0.63331       0.567202     0.682337\n",
       "1        Random Forest      0.580065       0.539194     0.586259\n",
       "2                 SGDC      0.550142            0.5     0.632752\n",
       "3                 LSVC      0.600437       0.506524     0.641723\n",
       "4  Logistic Regression      0.574725            0.5     0.639301"
      ]
     },
     "execution_count": 1052,
     "metadata": {},
     "output_type": "execute_result"
    }
   ],
   "source": [
    "baseline_scores.rename(columns = {0: 'Models', 1: 'Review_Scores', 2:'Summary_Scores', 3:'Total_Scores'})"
   ]
  },
  {
   "cell_type": "markdown",
   "metadata": {},
   "source": [
    "We see that a Naive Bayes model that uses the categorical data is the best predictor, with a balanced accuracy score of .682."
   ]
  },
  {
   "cell_type": "code",
   "execution_count": 76,
   "metadata": {},
   "outputs": [],
   "source": [
    "categories = list(reviews['category'].value_counts().index)"
   ]
  },
  {
   "cell_type": "code",
   "execution_count": 77,
   "metadata": {},
   "outputs": [
    {
     "data": {
      "text/plain": [
       "['office_products',\n",
       " 'toys',\n",
       " 'amazon_fashion',\n",
       " 'video_games',\n",
       " 'pet_supplies',\n",
       " 'all_beauty',\n",
       " 'automotive',\n",
       " 'tools',\n",
       " 'movies',\n",
       " 'music',\n",
       " 'grocery',\n",
       " 'kindle',\n",
       " 'software',\n",
       " 'musical_instruments',\n",
       " 'luxury_beauty',\n",
       " 'appliances',\n",
       " 'arts_crafts',\n",
       " 'industrial',\n",
       " 'prime_pantry',\n",
       " 'patio',\n",
       " 'cds_and_vinyl']"
      ]
     },
     "execution_count": 77,
     "metadata": {},
     "output_type": "execute_result"
    }
   ],
   "source": [
    "categories"
   ]
  },
  {
   "cell_type": "code",
   "execution_count": 911,
   "metadata": {},
   "outputs": [],
   "source": [
    "#CR for categorical reviews\n",
    "overall_true = []\n",
    "overall_pred= []\n",
    "cat_results = []\n",
    "category = []\n",
    "for i in categories:\n",
    "    df_train = training_set_df[training_set_df['category'] == i]\n",
    "    df_test = test_set_df[test_set_df['category'] == i]\n",
    "    \n",
    "    clf_NB_CV = GridSearchCV(clf, clf_param_grid, cv = 5).fit(X_total[df_train.index], y[df_train.index])\n",
    "    score = balanced_accuracy_score(y[df_test.index], clf_NB_CV.predict(X_total[df_test.index]))\n",
    "    \n",
    "    overall_pred.append(clf_NB_CV.predict(X_total[df_test.index]).tolist())\n",
    "    overall_true.append((y[df_test.index]).tolist())\n",
    "    \n",
    "    cat_results.append(score)\n",
    "    category.append(i)"
   ]
  },
  {
   "cell_type": "code",
   "execution_count": 912,
   "metadata": {},
   "outputs": [],
   "source": [
    "overall_T = []\n",
    "for i in range(0, len(overall_true)):\n",
    "    overall_T = overall_T + overall_true[i]\n",
    "\n",
    "overall_P = []\n",
    "for i in range(0, len(overall_pred)):\n",
    "    overall_P = overall_P + overall_pred[i]"
   ]
  },
  {
   "cell_type": "code",
   "execution_count": 913,
   "metadata": {},
   "outputs": [],
   "source": [
    "cat_dict = {'category': category, 'review_results': cat_results}"
   ]
  },
  {
   "cell_type": "code",
   "execution_count": 914,
   "metadata": {},
   "outputs": [
    {
     "data": {
      "text/plain": [
       "0.6156800651598846"
      ]
     },
     "execution_count": 914,
     "metadata": {},
     "output_type": "execute_result"
    }
   ],
   "source": [
    "balanced_accuracy_score(overall_T, overall_P)"
   ]
  },
  {
   "cell_type": "code",
   "execution_count": 82,
   "metadata": {},
   "outputs": [],
   "source": [
    "from sklearn.metrics import confusion_matrix"
   ]
  },
  {
   "cell_type": "code",
   "execution_count": 915,
   "metadata": {},
   "outputs": [
    {
     "data": {
      "text/plain": [
       "array([[75419,  2262],\n",
       "       [12438,  4381]])"
      ]
     },
     "execution_count": 915,
     "metadata": {},
     "output_type": "execute_result"
    }
   ],
   "source": [
    "confusion_matrix(overall_T, overall_P)"
   ]
  },
  {
   "cell_type": "code",
   "execution_count": 916,
   "metadata": {},
   "outputs": [
    {
     "data": {
      "text/html": [
       "<div>\n",
       "<style scoped>\n",
       "    .dataframe tbody tr th:only-of-type {\n",
       "        vertical-align: middle;\n",
       "    }\n",
       "\n",
       "    .dataframe tbody tr th {\n",
       "        vertical-align: top;\n",
       "    }\n",
       "\n",
       "    .dataframe thead th {\n",
       "        text-align: right;\n",
       "    }\n",
       "</style>\n",
       "<table border=\"1\" class=\"dataframe\">\n",
       "  <thead>\n",
       "    <tr style=\"text-align: right;\">\n",
       "      <th></th>\n",
       "      <th>category</th>\n",
       "      <th>review_results</th>\n",
       "    </tr>\n",
       "  </thead>\n",
       "  <tbody>\n",
       "    <tr>\n",
       "      <th>20</th>\n",
       "      <td>cds_and_vinyl</td>\n",
       "      <td>0.740399</td>\n",
       "    </tr>\n",
       "    <tr>\n",
       "      <th>8</th>\n",
       "      <td>movies</td>\n",
       "      <td>0.732537</td>\n",
       "    </tr>\n",
       "    <tr>\n",
       "      <th>12</th>\n",
       "      <td>software</td>\n",
       "      <td>0.715068</td>\n",
       "    </tr>\n",
       "    <tr>\n",
       "      <th>15</th>\n",
       "      <td>appliances</td>\n",
       "      <td>0.711715</td>\n",
       "    </tr>\n",
       "    <tr>\n",
       "      <th>3</th>\n",
       "      <td>video_games</td>\n",
       "      <td>0.666656</td>\n",
       "    </tr>\n",
       "    <tr>\n",
       "      <th>13</th>\n",
       "      <td>musical_instruments</td>\n",
       "      <td>0.638020</td>\n",
       "    </tr>\n",
       "    <tr>\n",
       "      <th>19</th>\n",
       "      <td>patio</td>\n",
       "      <td>0.555994</td>\n",
       "    </tr>\n",
       "    <tr>\n",
       "      <th>9</th>\n",
       "      <td>music</td>\n",
       "      <td>0.555365</td>\n",
       "    </tr>\n",
       "    <tr>\n",
       "      <th>7</th>\n",
       "      <td>tools</td>\n",
       "      <td>0.533910</td>\n",
       "    </tr>\n",
       "    <tr>\n",
       "      <th>0</th>\n",
       "      <td>office_products</td>\n",
       "      <td>0.526142</td>\n",
       "    </tr>\n",
       "    <tr>\n",
       "      <th>16</th>\n",
       "      <td>arts_crafts</td>\n",
       "      <td>0.512957</td>\n",
       "    </tr>\n",
       "    <tr>\n",
       "      <th>10</th>\n",
       "      <td>grocery</td>\n",
       "      <td>0.508793</td>\n",
       "    </tr>\n",
       "    <tr>\n",
       "      <th>14</th>\n",
       "      <td>luxury_beauty</td>\n",
       "      <td>0.508493</td>\n",
       "    </tr>\n",
       "    <tr>\n",
       "      <th>17</th>\n",
       "      <td>industrial</td>\n",
       "      <td>0.507948</td>\n",
       "    </tr>\n",
       "    <tr>\n",
       "      <th>4</th>\n",
       "      <td>pet_supplies</td>\n",
       "      <td>0.507368</td>\n",
       "    </tr>\n",
       "    <tr>\n",
       "      <th>11</th>\n",
       "      <td>kindle</td>\n",
       "      <td>0.501226</td>\n",
       "    </tr>\n",
       "    <tr>\n",
       "      <th>1</th>\n",
       "      <td>toys</td>\n",
       "      <td>0.500397</td>\n",
       "    </tr>\n",
       "    <tr>\n",
       "      <th>5</th>\n",
       "      <td>all_beauty</td>\n",
       "      <td>0.500000</td>\n",
       "    </tr>\n",
       "    <tr>\n",
       "      <th>18</th>\n",
       "      <td>prime_pantry</td>\n",
       "      <td>0.500000</td>\n",
       "    </tr>\n",
       "    <tr>\n",
       "      <th>6</th>\n",
       "      <td>automotive</td>\n",
       "      <td>0.499878</td>\n",
       "    </tr>\n",
       "    <tr>\n",
       "      <th>2</th>\n",
       "      <td>amazon_fashion</td>\n",
       "      <td>0.499873</td>\n",
       "    </tr>\n",
       "  </tbody>\n",
       "</table>\n",
       "</div>"
      ],
      "text/plain": [
       "               category  review_results\n",
       "20        cds_and_vinyl        0.740399\n",
       "8                movies        0.732537\n",
       "12             software        0.715068\n",
       "15           appliances        0.711715\n",
       "3           video_games        0.666656\n",
       "13  musical_instruments        0.638020\n",
       "19                patio        0.555994\n",
       "9                 music        0.555365\n",
       "7                 tools        0.533910\n",
       "0       office_products        0.526142\n",
       "16          arts_crafts        0.512957\n",
       "10              grocery        0.508793\n",
       "14        luxury_beauty        0.508493\n",
       "17           industrial        0.507948\n",
       "4          pet_supplies        0.507368\n",
       "11               kindle        0.501226\n",
       "1                  toys        0.500397\n",
       "5            all_beauty        0.500000\n",
       "18         prime_pantry        0.500000\n",
       "6            automotive        0.499878\n",
       "2        amazon_fashion        0.499873"
      ]
     },
     "execution_count": 916,
     "metadata": {},
     "output_type": "execute_result"
    }
   ],
   "source": [
    "categorical_predictions = pd.DataFrame(data = cat_dict)\n",
    "categorical_predictions.sort_values(by = 'review_results', ascending = False)"
   ]
  },
  {
   "cell_type": "markdown",
   "metadata": {},
   "source": [
    "Splitting the data up by category results in a balanced accuracy score that is significantly worse than a generalized model:\n",
    "\n",
    "Generalized Model = .682\n",
    "<br />\n",
    "Category Specific = .62"
   ]
  },
  {
   "cell_type": "code",
   "execution_count": 126,
   "metadata": {},
   "outputs": [],
   "source": [
    "X_sum, y_sum = make_xy(reviews, 'lemmatized_summaries')"
   ]
  },
  {
   "cell_type": "code",
   "execution_count": 704,
   "metadata": {},
   "outputs": [],
   "source": [
    "#Created a training and testing dict for combinations - just in case\n",
    "\n",
    "training_set_dict_x = {}\n",
    "training_set_dict_y = {}\n",
    "test_set_dict_x = {}\n",
    "test_set_dict_y = {}\n",
    "\n",
    "for i in categories:\n",
    "    df_dict_train = training_set_df[training_set_df['category'] == i]\n",
    "    values_train_x = df_dict_train['lemmatized_reviews']\n",
    "    values_train_y = df_dict_train['Helpful_review']\n",
    "    training_set_dict_x[i] = values_train_x\n",
    "    training_set_dict_y[i] = values_train_y\n",
    "    \n",
    "    df_dict_test = test_set_df[test_set_df['category'] == i]\n",
    "    values_test_x = df_dict_test['lemmatized_reviews']\n",
    "    values_test_y = df_dict_test['Helpful_review']\n",
    "    test_set_dict_x[i] = values_test_x\n",
    "    test_set_dict_y[i] = values_test_y"
   ]
  },
  {
   "cell_type": "code",
   "execution_count": 702,
   "metadata": {},
   "outputs": [],
   "source": [
    "clf_param_grid = {'alpha': [.1,.5,1]}\n",
    "clf_NB_CV_overall = GridSearchCV(clf, clf_param_grid, cv = 5).fit(x[train_index], y[train_index])"
   ]
  },
  {
   "cell_type": "code",
   "execution_count": 709,
   "metadata": {},
   "outputs": [
    {
     "data": {
      "text/plain": [
       "0.5468940463690455"
      ]
     },
     "execution_count": 709,
     "metadata": {},
     "output_type": "execute_result"
    }
   ],
   "source": [
    "balanced_accuracy_score(test_set_dict_y['toys'],clf_NB_CV_overall.predict(x[test_set_dict_x['toys'].index]))"
   ]
  },
  {
   "cell_type": "code",
   "execution_count": 729,
   "metadata": {},
   "outputs": [],
   "source": [
    "generalized_dict = {}\n",
    "overall_cat_predictions = []\n",
    "\n",
    "for i in categories:\n",
    "    overall_cat_predictions = balanced_accuracy_score(test_set_dict_y[i], clf_NB_CV_overall.predict(x[test_set_dict_x[i].index]))\n",
    "    generalized_dict[i] = overall_cat_predictions\n",
    "    \n",
    "generalized_model_results = pd.DataFrame(data = generalized_dict.values(), index = generalized_dict.keys())"
   ]
  },
  {
   "cell_type": "code",
   "execution_count": 748,
   "metadata": {},
   "outputs": [],
   "source": [
    "categorical_predictions['generalized_model_score'] = list(generalized_model_results[0])"
   ]
  },
  {
   "cell_type": "code",
   "execution_count": 749,
   "metadata": {},
   "outputs": [
    {
     "data": {
      "text/html": [
       "<div>\n",
       "<style scoped>\n",
       "    .dataframe tbody tr th:only-of-type {\n",
       "        vertical-align: middle;\n",
       "    }\n",
       "\n",
       "    .dataframe tbody tr th {\n",
       "        vertical-align: top;\n",
       "    }\n",
       "\n",
       "    .dataframe thead th {\n",
       "        text-align: right;\n",
       "    }\n",
       "</style>\n",
       "<table border=\"1\" class=\"dataframe\">\n",
       "  <thead>\n",
       "    <tr style=\"text-align: right;\">\n",
       "      <th></th>\n",
       "      <th>category</th>\n",
       "      <th>review_results</th>\n",
       "      <th>generalized_model_score</th>\n",
       "    </tr>\n",
       "  </thead>\n",
       "  <tbody>\n",
       "    <tr>\n",
       "      <th>0</th>\n",
       "      <td>office_products</td>\n",
       "      <td>0.500469</td>\n",
       "      <td>0.566643</td>\n",
       "    </tr>\n",
       "    <tr>\n",
       "      <th>1</th>\n",
       "      <td>toys</td>\n",
       "      <td>0.501051</td>\n",
       "      <td>0.546894</td>\n",
       "    </tr>\n",
       "    <tr>\n",
       "      <th>2</th>\n",
       "      <td>amazon_fashion</td>\n",
       "      <td>0.499745</td>\n",
       "      <td>0.506788</td>\n",
       "    </tr>\n",
       "    <tr>\n",
       "      <th>3</th>\n",
       "      <td>video_games</td>\n",
       "      <td>0.628459</td>\n",
       "      <td>0.689218</td>\n",
       "    </tr>\n",
       "    <tr>\n",
       "      <th>4</th>\n",
       "      <td>pet_supplies</td>\n",
       "      <td>0.500750</td>\n",
       "      <td>0.522021</td>\n",
       "    </tr>\n",
       "    <tr>\n",
       "      <th>5</th>\n",
       "      <td>all_beauty</td>\n",
       "      <td>0.499737</td>\n",
       "      <td>0.512211</td>\n",
       "    </tr>\n",
       "    <tr>\n",
       "      <th>6</th>\n",
       "      <td>automotive</td>\n",
       "      <td>0.499634</td>\n",
       "      <td>0.523605</td>\n",
       "    </tr>\n",
       "    <tr>\n",
       "      <th>7</th>\n",
       "      <td>tools</td>\n",
       "      <td>0.500481</td>\n",
       "      <td>0.529954</td>\n",
       "    </tr>\n",
       "    <tr>\n",
       "      <th>8</th>\n",
       "      <td>movies</td>\n",
       "      <td>0.693127</td>\n",
       "      <td>0.712392</td>\n",
       "    </tr>\n",
       "    <tr>\n",
       "      <th>9</th>\n",
       "      <td>music</td>\n",
       "      <td>0.514036</td>\n",
       "      <td>0.728777</td>\n",
       "    </tr>\n",
       "    <tr>\n",
       "      <th>10</th>\n",
       "      <td>grocery</td>\n",
       "      <td>0.504615</td>\n",
       "      <td>0.515445</td>\n",
       "    </tr>\n",
       "    <tr>\n",
       "      <th>11</th>\n",
       "      <td>kindle</td>\n",
       "      <td>0.500441</td>\n",
       "      <td>0.582091</td>\n",
       "    </tr>\n",
       "    <tr>\n",
       "      <th>12</th>\n",
       "      <td>software</td>\n",
       "      <td>0.669510</td>\n",
       "      <td>0.696507</td>\n",
       "    </tr>\n",
       "    <tr>\n",
       "      <th>13</th>\n",
       "      <td>musical_instruments</td>\n",
       "      <td>0.564210</td>\n",
       "      <td>0.621363</td>\n",
       "    </tr>\n",
       "    <tr>\n",
       "      <th>14</th>\n",
       "      <td>luxury_beauty</td>\n",
       "      <td>0.499667</td>\n",
       "      <td>0.509495</td>\n",
       "    </tr>\n",
       "    <tr>\n",
       "      <th>15</th>\n",
       "      <td>appliances</td>\n",
       "      <td>0.678189</td>\n",
       "      <td>0.616556</td>\n",
       "    </tr>\n",
       "    <tr>\n",
       "      <th>16</th>\n",
       "      <td>arts_crafts</td>\n",
       "      <td>0.501293</td>\n",
       "      <td>0.519924</td>\n",
       "    </tr>\n",
       "    <tr>\n",
       "      <th>17</th>\n",
       "      <td>industrial</td>\n",
       "      <td>0.501753</td>\n",
       "      <td>0.546590</td>\n",
       "    </tr>\n",
       "    <tr>\n",
       "      <th>18</th>\n",
       "      <td>prime_pantry</td>\n",
       "      <td>0.500000</td>\n",
       "      <td>0.509984</td>\n",
       "    </tr>\n",
       "    <tr>\n",
       "      <th>19</th>\n",
       "      <td>patio</td>\n",
       "      <td>0.501682</td>\n",
       "      <td>0.535518</td>\n",
       "    </tr>\n",
       "    <tr>\n",
       "      <th>20</th>\n",
       "      <td>cds_and_vinyl</td>\n",
       "      <td>0.689610</td>\n",
       "      <td>0.716473</td>\n",
       "    </tr>\n",
       "  </tbody>\n",
       "</table>\n",
       "</div>"
      ],
      "text/plain": [
       "               category  review_results  generalized_model_score\n",
       "0       office_products        0.500469                 0.566643\n",
       "1                  toys        0.501051                 0.546894\n",
       "2        amazon_fashion        0.499745                 0.506788\n",
       "3           video_games        0.628459                 0.689218\n",
       "4          pet_supplies        0.500750                 0.522021\n",
       "5            all_beauty        0.499737                 0.512211\n",
       "6            automotive        0.499634                 0.523605\n",
       "7                 tools        0.500481                 0.529954\n",
       "8                movies        0.693127                 0.712392\n",
       "9                 music        0.514036                 0.728777\n",
       "10              grocery        0.504615                 0.515445\n",
       "11               kindle        0.500441                 0.582091\n",
       "12             software        0.669510                 0.696507\n",
       "13  musical_instruments        0.564210                 0.621363\n",
       "14        luxury_beauty        0.499667                 0.509495\n",
       "15           appliances        0.678189                 0.616556\n",
       "16          arts_crafts        0.501293                 0.519924\n",
       "17           industrial        0.501753                 0.546590\n",
       "18         prime_pantry        0.500000                 0.509984\n",
       "19                patio        0.501682                 0.535518\n",
       "20        cds_and_vinyl        0.689610                 0.716473"
      ]
     },
     "execution_count": 749,
     "metadata": {},
     "output_type": "execute_result"
    }
   ],
   "source": [
    "categorical_predictions"
   ]
  },
  {
   "cell_type": "markdown",
   "metadata": {},
   "source": [
    "We see that in nearly every category that the generalized model performs better than a model that is trained category specific. The only exception was appliances where the category specific model has a balanced accuracy score that is .06 higher than the generalized model. "
   ]
  },
  {
   "cell_type": "code",
   "execution_count": 940,
   "metadata": {},
   "outputs": [],
   "source": [
    "from sklearn.metrics import classification_report "
   ]
  },
  {
   "cell_type": "code",
   "execution_count": 941,
   "metadata": {},
   "outputs": [
    {
     "name": "stdout",
     "output_type": "stream",
     "text": [
      "              precision    recall  f1-score   support\n",
      "\n",
      "          no       0.87      0.93      0.90     77681\n",
      "         yes       0.50      0.34      0.40     16819\n",
      "\n",
      "    accuracy                           0.82     94500\n",
      "   macro avg       0.68      0.63      0.65     94500\n",
      "weighted avg       0.80      0.82      0.81     94500\n",
      "\n"
     ]
    }
   ],
   "source": [
    "print(classification_report(y[test_index], clf_NB_CV_overall.predict(x[test_index])))"
   ]
  },
  {
   "cell_type": "code",
   "execution_count": 942,
   "metadata": {},
   "outputs": [],
   "source": [
    "from sklearn.metrics import f1_score"
   ]
  },
  {
   "cell_type": "code",
   "execution_count": 947,
   "metadata": {},
   "outputs": [
    {
     "data": {
      "text/plain": [
       "0.6894962760335283"
      ]
     },
     "execution_count": 947,
     "metadata": {},
     "output_type": "execute_result"
    }
   ],
   "source": [
    "f1_score(y[test_index], clf_NB_CV_total.predict(X_total[test_index]), average='macro')"
   ]
  },
  {
   "cell_type": "code",
   "execution_count": 1018,
   "metadata": {},
   "outputs": [],
   "source": [
    "NB_proba = clf_NB_CV_total.predict_proba(X_total[test_index])"
   ]
  },
  {
   "cell_type": "code",
   "execution_count": 1015,
   "metadata": {},
   "outputs": [],
   "source": [
    "rf_proba = clf_rf_CV_total.predict_proba(X_total[test_index])"
   ]
  },
  {
   "cell_type": "code",
   "execution_count": 1053,
   "metadata": {
    "scrolled": true
   },
   "outputs": [],
   "source": [
    "SGDC_proba = clf_SGDC_total.predict_proba(X_total[test_index])"
   ]
  },
  {
   "cell_type": "code",
   "execution_count": 1024,
   "metadata": {},
   "outputs": [],
   "source": [
    "Log_reg_proba = clf_log_reg_total.predict_proba(X_total[test_index])"
   ]
  },
  {
   "cell_type": "code",
   "execution_count": 1057,
   "metadata": {},
   "outputs": [],
   "source": [
    "#Creating dataframes of the predicted probabilities from each model\n",
    "NB = pd.DataFrame(NB_proba)\n",
    "RF = pd.DataFrame(rf_proba)\n",
    "SGDC = pd.DataFrame(SGDC_proba)\n",
    "LogReg = pd.DataFrame(Log_reg_proba)"
   ]
  },
  {
   "cell_type": "code",
   "execution_count": 1065,
   "metadata": {},
   "outputs": [],
   "source": [
    "models_pred_proba = pd.DataFrame(NB[1])\n",
    "models_pred_proba['RF'] = RF[1]\n",
    "models_pred_proba['SGDC'] = SGDC[1]\n",
    "models_pred_proba['LogReg'] = LogReg[1]"
   ]
  },
  {
   "cell_type": "code",
   "execution_count": 1073,
   "metadata": {},
   "outputs": [],
   "source": [
    "models_pred_proba = models_pred_proba.rename(columns = {1: 'NB'})"
   ]
  },
  {
   "cell_type": "code",
   "execution_count": 1164,
   "metadata": {},
   "outputs": [],
   "source": [
    "#List of thresholds\n",
    "thresh_list = [.01, .025 ,.05, .1, .15, .2, .25, .3, .35, .4, .45, .5]"
   ]
  },
  {
   "cell_type": "code",
   "execution_count": 1198,
   "metadata": {},
   "outputs": [],
   "source": [
    "#This function produces probability predictions and compares them against a discrimination threshold\n",
    "def f1_score_thresh(df, model, thresh):\n",
    "    return df[model] > thresh"
   ]
  },
  {
   "cell_type": "code",
   "execution_count": 1345,
   "metadata": {},
   "outputs": [],
   "source": [
    "#These series of loops optimizes each model by going through a list of discrimination thresholds \n",
    "#Models using all inputs\n",
    "f1_score_NB_total = []\n",
    "threshold = []\n",
    "for j in thresh_list: #Creating a list of f1 scores for various thresholds\n",
    "    k = []\n",
    "    __ = []\n",
    "    f1_score_thresh(models_pred_proba, 'NB', j)\n",
    "    for i in f1_score_thresh(models_pred_proba, 'NB', j): #Setting each row to yes or no instead of True/False\n",
    "        if f1_score_thresh(models_pred_proba, 'NB', j)[i] == True:\n",
    "            k = 'yes'\n",
    "        else:\n",
    "            k = 'no'\n",
    "        __.append(k)\n",
    "    f1_score_NB_total.append(f1_score(y[test_index], __, average='macro'))"
   ]
  },
  {
   "cell_type": "code",
   "execution_count": 1347,
   "metadata": {},
   "outputs": [
    {
     "data": {
      "text/plain": [
       "0.451158954820799"
      ]
     },
     "execution_count": 1347,
     "metadata": {},
     "output_type": "execute_result"
    }
   ],
   "source": [
    "f1_score_NB_total_highest = np.max(f1_score_NB_total)\n",
    "f1_score_NB_total_highest"
   ]
  },
  {
   "cell_type": "code",
   "execution_count": 1327,
   "metadata": {},
   "outputs": [],
   "source": [
    "f1_score_RF = []\n",
    "for j in thresh_list:\n",
    "    k = []\n",
    "    __ = []\n",
    "    f1_score_thresh(models_pred_proba, 'RF', j)\n",
    "    for i in f1_score_thresh(models_pred_proba, 'RF', j):\n",
    "        if f1_score_thresh(models_pred_proba, 'RF', j)[i] == True:\n",
    "            k = 'yes'\n",
    "        else:\n",
    "            k = 'no'\n",
    "        __.append(k)\n",
    "    f1_score_RF.append(f1_score(y[test_index], __, average='macro'))"
   ]
  },
  {
   "cell_type": "code",
   "execution_count": 1348,
   "metadata": {},
   "outputs": [
    {
     "data": {
      "text/plain": [
       "0.651030742023905"
      ]
     },
     "execution_count": 1348,
     "metadata": {},
     "output_type": "execute_result"
    }
   ],
   "source": [
    "f1_score_RF_total_highest = np.max(f1_score_RF)\n",
    "f1_score_RF_total_highest"
   ]
  },
  {
   "cell_type": "code",
   "execution_count": 1169,
   "metadata": {},
   "outputs": [],
   "source": [
    "f1_score_SGDC = []\n",
    "for j in thresh_list:\n",
    "    k = []\n",
    "    __ = []\n",
    "    f1_score_thresh(models_pred_proba, 'SGDC', j)\n",
    "    for i in f1_score_thresh(models_pred_proba, 'SGDC', j):\n",
    "        if f1_score_thresh(models_pred_proba, 'SGDC', j)[i] == True:\n",
    "            k = 'yes'\n",
    "        else:\n",
    "            k = 'no'\n",
    "        __.append(k)\n",
    "    f1_score_SGDC.append(f1_score(y[test_index], __, average='macro'))"
   ]
  },
  {
   "cell_type": "code",
   "execution_count": 1349,
   "metadata": {},
   "outputs": [
    {
     "data": {
      "text/plain": [
       "0.5312181187083436"
      ]
     },
     "execution_count": 1349,
     "metadata": {},
     "output_type": "execute_result"
    }
   ],
   "source": [
    "f1_score_SGDC_total_highest = np.max(f1_score_SGDC)\n",
    "f1_score_SGDC_total_highest"
   ]
  },
  {
   "cell_type": "code",
   "execution_count": 1170,
   "metadata": {},
   "outputs": [],
   "source": [
    "f1_score_Log_reg = []\n",
    "for j in thresh_list:\n",
    "    k = []\n",
    "    __ = []\n",
    "    f1_score_thresh(models_pred_proba, 'LogReg', j)\n",
    "    for i in f1_score_thresh(models_pred_proba, 'LogReg', j):\n",
    "        if f1_score_thresh(models_pred_proba, 'LogReg', j)[i] == True:\n",
    "            k = 'yes'\n",
    "        else:\n",
    "            k = 'no'\n",
    "        __.append(k)\n",
    "    f1_score_Log_reg.append(f1_score(y[test_index], __, average='macro'))"
   ]
  },
  {
   "cell_type": "code",
   "execution_count": 1350,
   "metadata": {},
   "outputs": [
    {
     "data": {
      "text/plain": [
       "0.5239285759621033"
      ]
     },
     "execution_count": 1350,
     "metadata": {},
     "output_type": "execute_result"
    }
   ],
   "source": [
    "f1_score_Log_reg_total_highest = np.max(f1_score_Log_reg)\n",
    "f1_score_Log_reg_total_highest"
   ]
  },
  {
   "cell_type": "markdown",
   "metadata": {},
   "source": [
    "We see that the random forest model that uses the reviews, summaries and categorical features has the highest f1 score at .65."
   ]
  },
  {
   "cell_type": "code",
   "execution_count": 1188,
   "metadata": {},
   "outputs": [],
   "source": [
    "NB_reviews_proba = clf_NB_CV_overall.predict_proba(x[test_index])"
   ]
  },
  {
   "cell_type": "code",
   "execution_count": 1189,
   "metadata": {},
   "outputs": [],
   "source": [
    "RF_reviews_proba = clf_rf_CV.predict_proba(x[test_index])"
   ]
  },
  {
   "cell_type": "code",
   "execution_count": 1190,
   "metadata": {},
   "outputs": [],
   "source": [
    "SGDC_reviews_proba = clf_SGDC_CV.predict_proba(x[test_index])"
   ]
  },
  {
   "cell_type": "code",
   "execution_count": 1191,
   "metadata": {},
   "outputs": [],
   "source": [
    "Log_reg_reviews_proba = clf_log_CV.predict_proba(x[test_index])"
   ]
  },
  {
   "cell_type": "code",
   "execution_count": 1192,
   "metadata": {},
   "outputs": [],
   "source": [
    "NB = pd.DataFrame(NB_reviews_proba)\n",
    "RF = pd.DataFrame(RF_reviews_proba)\n",
    "SGDC = pd.DataFrame(SGDC_reviews_proba)\n",
    "LogReg = pd.DataFrame(Log_reg_reviews_proba)"
   ]
  },
  {
   "cell_type": "code",
   "execution_count": 1193,
   "metadata": {},
   "outputs": [],
   "source": [
    "models_rev_pred_proba = pd.DataFrame(NB[1])\n",
    "models_rev_pred_proba['RF'] = RF[1]\n",
    "models_rev_pred_proba['SGDC'] = SGDC[1]\n",
    "models_rev_pred_proba['LogReg'] = LogReg[1]"
   ]
  },
  {
   "cell_type": "code",
   "execution_count": 1194,
   "metadata": {},
   "outputs": [],
   "source": [
    "models_rev_pred_proba = models_rev_pred_proba.rename(columns = {1: 'NB'})"
   ]
  },
  {
   "cell_type": "code",
   "execution_count": 1242,
   "metadata": {},
   "outputs": [
    {
     "data": {
      "text/html": [
       "<div>\n",
       "<style scoped>\n",
       "    .dataframe tbody tr th:only-of-type {\n",
       "        vertical-align: middle;\n",
       "    }\n",
       "\n",
       "    .dataframe tbody tr th {\n",
       "        vertical-align: top;\n",
       "    }\n",
       "\n",
       "    .dataframe thead th {\n",
       "        text-align: right;\n",
       "    }\n",
       "</style>\n",
       "<table border=\"1\" class=\"dataframe\">\n",
       "  <thead>\n",
       "    <tr style=\"text-align: right;\">\n",
       "      <th></th>\n",
       "      <th>NB</th>\n",
       "      <th>RF</th>\n",
       "      <th>SGDC</th>\n",
       "      <th>LogReg</th>\n",
       "    </tr>\n",
       "  </thead>\n",
       "  <tbody>\n",
       "    <tr>\n",
       "      <th>0</th>\n",
       "      <td>0.016466</td>\n",
       "      <td>0.000000</td>\n",
       "      <td>0.200013</td>\n",
       "      <td>0.099447</td>\n",
       "    </tr>\n",
       "    <tr>\n",
       "      <th>1</th>\n",
       "      <td>0.601111</td>\n",
       "      <td>0.266667</td>\n",
       "      <td>0.236297</td>\n",
       "      <td>0.111637</td>\n",
       "    </tr>\n",
       "    <tr>\n",
       "      <th>2</th>\n",
       "      <td>0.171097</td>\n",
       "      <td>0.000000</td>\n",
       "      <td>0.231608</td>\n",
       "      <td>0.132971</td>\n",
       "    </tr>\n",
       "    <tr>\n",
       "      <th>3</th>\n",
       "      <td>0.011662</td>\n",
       "      <td>0.066667</td>\n",
       "      <td>0.211797</td>\n",
       "      <td>0.132946</td>\n",
       "    </tr>\n",
       "    <tr>\n",
       "      <th>4</th>\n",
       "      <td>0.010503</td>\n",
       "      <td>0.066667</td>\n",
       "      <td>0.154990</td>\n",
       "      <td>0.099848</td>\n",
       "    </tr>\n",
       "  </tbody>\n",
       "</table>\n",
       "</div>"
      ],
      "text/plain": [
       "         NB        RF      SGDC    LogReg\n",
       "0  0.016466  0.000000  0.200013  0.099447\n",
       "1  0.601111  0.266667  0.236297  0.111637\n",
       "2  0.171097  0.000000  0.231608  0.132971\n",
       "3  0.011662  0.066667  0.211797  0.132946\n",
       "4  0.010503  0.066667  0.154990  0.099848"
      ]
     },
     "execution_count": 1242,
     "metadata": {},
     "output_type": "execute_result"
    }
   ],
   "source": [
    "models_rev_pred_proba.head()"
   ]
  },
  {
   "cell_type": "code",
   "execution_count": 1282,
   "metadata": {},
   "outputs": [],
   "source": [
    "#Models using only reviews \n",
    "f1_score_rev_NB = []\n",
    "for j in thresh_list:\n",
    "    k = []\n",
    "    __ = []\n",
    "    f1_score_thresh(models_rev_pred_proba, 'NB', j)\n",
    "    for i in range(0, 94500):\n",
    "        if f1_score_thresh(models_rev_pred_proba, 'NB', j)[i] == True:\n",
    "            k = 'yes'\n",
    "        else:\n",
    "            k = 'no'\n",
    "        __.append(k)\n",
    "        \n",
    "    f1_score_rev_NB.append(f1_score(y[test_index], __, average='macro'))"
   ]
  },
  {
   "cell_type": "code",
   "execution_count": 1286,
   "metadata": {},
   "outputs": [
    {
     "data": {
      "text/plain": [
       "0.6499791878124489"
      ]
     },
     "execution_count": 1286,
     "metadata": {},
     "output_type": "execute_result"
    }
   ],
   "source": [
    "f1_score_NB_rev_max = np.max(f1_score_rev_NB)\n",
    "f1_score_NB_rev_max"
   ]
  },
  {
   "cell_type": "code",
   "execution_count": 1355,
   "metadata": {},
   "outputs": [],
   "source": [
    "f1_score_rev_RF = []\n",
    "for j in thresh_list:\n",
    "    k = []\n",
    "    __ = []\n",
    "    f1_score_thresh(models_rev_pred_proba, 'RF', j)\n",
    "    for i in range(0, 94500):\n",
    "        if f1_score_thresh(models_rev_pred_proba, 'RF', j)[i] == True:\n",
    "            k = 'yes'\n",
    "        else:\n",
    "            k = 'no'\n",
    "        __.append(k)\n",
    "        \n",
    "    f1_score_rev_RF.append(f1_score(y[test_index], __, average='macro'))"
   ]
  },
  {
   "cell_type": "code",
   "execution_count": 1356,
   "metadata": {},
   "outputs": [
    {
     "data": {
      "text/plain": [
       "0.6684169363483298"
      ]
     },
     "execution_count": 1356,
     "metadata": {},
     "output_type": "execute_result"
    }
   ],
   "source": [
    "highest_f1_score_rev_RF = np.max(f1_score_rev_RF)\n",
    "highest_f1_score_rev_RF"
   ]
  },
  {
   "cell_type": "code",
   "execution_count": 1290,
   "metadata": {},
   "outputs": [],
   "source": [
    "f1_score_rev_SGDC = []\n",
    "for j in thresh_list:\n",
    "    k = []\n",
    "    __ = []\n",
    "    f1_score_thresh(models_rev_pred_proba, 'SGDC', j)\n",
    "    for i in range(0, 94500):\n",
    "        if f1_score_thresh(models_rev_pred_proba, 'SGDC', j)[i] == True:\n",
    "            k = 'yes'\n",
    "        else:\n",
    "            k = 'no'\n",
    "        __.append(k)\n",
    "        \n",
    "    f1_score_rev_SGDC.append(f1_score(y[test_index], __, average='macro'))"
   ]
  },
  {
   "cell_type": "code",
   "execution_count": 1291,
   "metadata": {},
   "outputs": [
    {
     "data": {
      "text/plain": [
       "0.5312181187083436"
      ]
     },
     "execution_count": 1291,
     "metadata": {},
     "output_type": "execute_result"
    }
   ],
   "source": [
    "f1_score_rev_SGDC_max = np.max(f1_score_SGDC)\n",
    "f1_score_rev_SGDC_max"
   ]
  },
  {
   "cell_type": "code",
   "execution_count": 1294,
   "metadata": {},
   "outputs": [],
   "source": [
    "f1_score_rev_Log_reg = []\n",
    "for j in thresh_list:\n",
    "    k = []\n",
    "    __ = []\n",
    "    f1_score_thresh(models_rev_pred_proba, 'LogReg', j)\n",
    "    for i in range(0, 94500):\n",
    "        if f1_score_thresh(models_rev_pred_proba, 'LogReg', j)[i] == True:\n",
    "            k = 'yes'\n",
    "        else:\n",
    "            k = 'no'\n",
    "        __.append(k)\n",
    "        \n",
    "    f1_score_rev_Log_reg.append(f1_score(y[test_index], __, average='macro'))"
   ]
  },
  {
   "cell_type": "code",
   "execution_count": 1295,
   "metadata": {},
   "outputs": [
    {
     "data": {
      "text/plain": [
       "0.5239285759621033"
      ]
     },
     "execution_count": 1295,
     "metadata": {},
     "output_type": "execute_result"
    }
   ],
   "source": [
    "f1_score_rev_Log_reg_max = np.max(f1_score_Log_reg)\n",
    "f1_score_rev_Log_reg_max"
   ]
  },
  {
   "cell_type": "markdown",
   "metadata": {},
   "source": [
    "The random forest model that only used the reviews as inputs yielded the highest f1 score of .67"
   ]
  },
  {
   "cell_type": "code",
   "execution_count": 1311,
   "metadata": {},
   "outputs": [],
   "source": [
    "NB_sum_proba = clf_sum_NB.predict_proba(X_sum[test_index])"
   ]
  },
  {
   "cell_type": "code",
   "execution_count": 1312,
   "metadata": {},
   "outputs": [],
   "source": [
    "RF_sum_proba = rf_sum.predict_proba(X_sum[test_index])"
   ]
  },
  {
   "cell_type": "code",
   "execution_count": 1313,
   "metadata": {},
   "outputs": [],
   "source": [
    "SGDC_sum_proba = clf_sum_SGDC_CV.predict_proba(X_sum[test_index])"
   ]
  },
  {
   "cell_type": "code",
   "execution_count": 1314,
   "metadata": {},
   "outputs": [],
   "source": [
    "Log_reg_sum_proba = Log_reg_sum.predict_proba(X_sum[test_index])"
   ]
  },
  {
   "cell_type": "code",
   "execution_count": 1315,
   "metadata": {},
   "outputs": [],
   "source": [
    "NB = pd.DataFrame(NB_sum_proba)\n",
    "RF = pd.DataFrame(RF_sum_proba)\n",
    "SGDC = pd.DataFrame(SGDC_sum_proba)\n",
    "LogReg = pd.DataFrame(Log_reg_sum_proba)"
   ]
  },
  {
   "cell_type": "code",
   "execution_count": 1316,
   "metadata": {},
   "outputs": [],
   "source": [
    "models_sum_pred_proba = pd.DataFrame(NB[1])\n",
    "models_sum_pred_proba['RF'] = RF[1]\n",
    "models_sum_pred_proba['SGDC'] = SGDC[1]\n",
    "models_sum_pred_proba['LogReg'] = LogReg[1]"
   ]
  },
  {
   "cell_type": "code",
   "execution_count": 1317,
   "metadata": {},
   "outputs": [],
   "source": [
    "models_sum_pred_proba = models_sum_pred_proba.rename(columns = {1: 'NB'})"
   ]
  },
  {
   "cell_type": "code",
   "execution_count": 1318,
   "metadata": {},
   "outputs": [
    {
     "data": {
      "text/html": [
       "<div>\n",
       "<style scoped>\n",
       "    .dataframe tbody tr th:only-of-type {\n",
       "        vertical-align: middle;\n",
       "    }\n",
       "\n",
       "    .dataframe tbody tr th {\n",
       "        vertical-align: top;\n",
       "    }\n",
       "\n",
       "    .dataframe thead th {\n",
       "        text-align: right;\n",
       "    }\n",
       "</style>\n",
       "<table border=\"1\" class=\"dataframe\">\n",
       "  <thead>\n",
       "    <tr style=\"text-align: right;\">\n",
       "      <th></th>\n",
       "      <th>NB</th>\n",
       "      <th>RF</th>\n",
       "      <th>SGDC</th>\n",
       "      <th>LogReg</th>\n",
       "    </tr>\n",
       "  </thead>\n",
       "  <tbody>\n",
       "    <tr>\n",
       "      <th>0</th>\n",
       "      <td>0.002961</td>\n",
       "      <td>0.031522</td>\n",
       "      <td>0.102941</td>\n",
       "      <td>0.041228</td>\n",
       "    </tr>\n",
       "    <tr>\n",
       "      <th>1</th>\n",
       "      <td>0.362365</td>\n",
       "      <td>0.266667</td>\n",
       "      <td>0.287697</td>\n",
       "      <td>0.239621</td>\n",
       "    </tr>\n",
       "    <tr>\n",
       "      <th>2</th>\n",
       "      <td>0.102848</td>\n",
       "      <td>0.400000</td>\n",
       "      <td>0.254754</td>\n",
       "      <td>0.240039</td>\n",
       "    </tr>\n",
       "    <tr>\n",
       "      <th>3</th>\n",
       "      <td>0.066672</td>\n",
       "      <td>0.200000</td>\n",
       "      <td>0.212872</td>\n",
       "      <td>0.246756</td>\n",
       "    </tr>\n",
       "    <tr>\n",
       "      <th>4</th>\n",
       "      <td>0.002997</td>\n",
       "      <td>0.033804</td>\n",
       "      <td>0.068322</td>\n",
       "      <td>0.036753</td>\n",
       "    </tr>\n",
       "  </tbody>\n",
       "</table>\n",
       "</div>"
      ],
      "text/plain": [
       "         NB        RF      SGDC    LogReg\n",
       "0  0.002961  0.031522  0.102941  0.041228\n",
       "1  0.362365  0.266667  0.287697  0.239621\n",
       "2  0.102848  0.400000  0.254754  0.240039\n",
       "3  0.066672  0.200000  0.212872  0.246756\n",
       "4  0.002997  0.033804  0.068322  0.036753"
      ]
     },
     "execution_count": 1318,
     "metadata": {},
     "output_type": "execute_result"
    }
   ],
   "source": [
    "models_sum_pred_proba.head()"
   ]
  },
  {
   "cell_type": "code",
   "execution_count": 1319,
   "metadata": {},
   "outputs": [],
   "source": [
    "#Models only using summaries\n",
    "f1_score_sum_NB = []\n",
    "for j in thresh_list:\n",
    "    k = []\n",
    "    __ = []\n",
    "    f1_score_thresh(models_sum_pred_proba, 'NB', j)\n",
    "    for i in range(0, 94500):\n",
    "        if f1_score_thresh(models_sum_pred_proba, 'NB', j)[i] == True:\n",
    "            k = 'yes'\n",
    "        else:\n",
    "            k = 'no'\n",
    "        __.append(k)\n",
    "        \n",
    "    f1_score_sum_NB.append(f1_score(y[test_index], __, average='macro'))"
   ]
  },
  {
   "cell_type": "code",
   "execution_count": 1320,
   "metadata": {},
   "outputs": [
    {
     "data": {
      "text/plain": [
       "0.6125988896995122"
      ]
     },
     "execution_count": 1320,
     "metadata": {},
     "output_type": "execute_result"
    }
   ],
   "source": [
    "f1_score_NB_sum = np.max(f1_score_sum_NB)\n",
    "f1_score_NB_sum"
   ]
  },
  {
   "cell_type": "code",
   "execution_count": 1321,
   "metadata": {},
   "outputs": [],
   "source": [
    "f1_score_sum_RF = []\n",
    "for j in thresh_list:\n",
    "    k = []\n",
    "    __ = []\n",
    "    f1_score_thresh(models_sum_pred_proba, 'RF', j)\n",
    "    for i in range(0, 94500):\n",
    "        if f1_score_thresh(models_sum_pred_proba, 'RF', j)[i] == True:\n",
    "            k = 'yes'\n",
    "        else:\n",
    "            k = 'no'\n",
    "        __.append(k)\n",
    "        \n",
    "    f1_score_sum_RF.append(f1_score(y[test_index], __, average='macro'))"
   ]
  },
  {
   "cell_type": "code",
   "execution_count": 1322,
   "metadata": {},
   "outputs": [
    {
     "data": {
      "text/plain": [
       "0.5908855606764365"
      ]
     },
     "execution_count": 1322,
     "metadata": {},
     "output_type": "execute_result"
    }
   ],
   "source": [
    "f1_score_sum_RF = np.max(f1_score_sum_RF)\n",
    "f1_score_sum_RF"
   ]
  },
  {
   "cell_type": "code",
   "execution_count": 1323,
   "metadata": {},
   "outputs": [
    {
     "name": "stderr",
     "output_type": "stream",
     "text": [
      "/Users/arensimmons/anaconda3/lib/python3.7/site-packages/sklearn/metrics/classification.py:1437: UndefinedMetricWarning: F-score is ill-defined and being set to 0.0 in labels with no predicted samples.\n",
      "  'precision', 'predicted', average, warn_for)\n"
     ]
    }
   ],
   "source": [
    "f1_score_sum_SGDC = []\n",
    "for j in thresh_list:\n",
    "    k = []\n",
    "    __ = []\n",
    "    f1_score_thresh(models_sum_pred_proba, 'SGDC', j)\n",
    "    for i in range(0, 94500):\n",
    "        if f1_score_thresh(models_sum_pred_proba, 'SGDC', j)[i] == True:\n",
    "            k = 'yes'\n",
    "        else:\n",
    "            k = 'no'\n",
    "        __.append(k)\n",
    "        \n",
    "    f1_score_sum_SGDC.append(f1_score(y[test_index], __, average='macro'))"
   ]
  },
  {
   "cell_type": "code",
   "execution_count": 1324,
   "metadata": {},
   "outputs": [
    {
     "data": {
      "text/plain": [
       "0.5635194251380714"
      ]
     },
     "execution_count": 1324,
     "metadata": {},
     "output_type": "execute_result"
    }
   ],
   "source": [
    "f1_score_sum_SGDC = np.max(f1_score_sum_SGDC)\n",
    "f1_score_sum_SGDC"
   ]
  },
  {
   "cell_type": "code",
   "execution_count": 1325,
   "metadata": {},
   "outputs": [],
   "source": [
    "f1_score_sum_Log_reg = []\n",
    "for j in thresh_list:\n",
    "    k = []\n",
    "    __ = []\n",
    "    f1_score_thresh(models_sum_pred_proba, 'LogReg', j)\n",
    "    for i in range(0, 94500):\n",
    "        if f1_score_thresh(models_sum_pred_proba, 'LogReg', j)[i] == True:\n",
    "            k = 'yes'\n",
    "        else:\n",
    "            k = 'no'\n",
    "        __.append(k)\n",
    "        \n",
    "    f1_score_sum_Log_reg.append(f1_score(y[test_index], __, average='macro'))"
   ]
  },
  {
   "cell_type": "code",
   "execution_count": 1326,
   "metadata": {},
   "outputs": [
    {
     "data": {
      "text/plain": [
       "0.5658990281698539"
      ]
     },
     "execution_count": 1326,
     "metadata": {},
     "output_type": "execute_result"
    }
   ],
   "source": [
    "f1_score_sum_Log_reg = np.max(f1_score_sum_Log_reg)\n",
    "f1_score_sum_Log_reg"
   ]
  },
  {
   "cell_type": "code",
   "execution_count": 1351,
   "metadata": {},
   "outputs": [],
   "source": [
    "f1_sum_scores = [f1_score_NB_sum, f1_score_sum_RF, f1_score_sum_SGDC, f1_score_sum_Log_reg]\n",
    "f1_rev_scores = [f1_score_NB_rev, f1_score_rev_RF, f1_score_rev_SGDC, f1_score_rev_Log_reg]\n",
    "f1_total_scores = [f1_score_NB_total, f1_score_RF_total, f1_score_SGDC_total, f1_score_Log_reg_total]\n",
    "f1_scores_models = ['NB', 'RF', 'SGDC', 'Log_Reg']"
   ]
  },
  {
   "cell_type": "code",
   "execution_count": 1352,
   "metadata": {},
   "outputs": [],
   "source": [
    "d = {'Review_Scores': f1_rev_scores, 'Summary_Scores': f1_sum_scores, 'Total_scores': f1_total_scores}"
   ]
  },
  {
   "cell_type": "code",
   "execution_count": 1353,
   "metadata": {},
   "outputs": [
    {
     "data": {
      "text/html": [
       "<div>\n",
       "<style scoped>\n",
       "    .dataframe tbody tr th:only-of-type {\n",
       "        vertical-align: middle;\n",
       "    }\n",
       "\n",
       "    .dataframe tbody tr th {\n",
       "        vertical-align: top;\n",
       "    }\n",
       "\n",
       "    .dataframe thead th {\n",
       "        text-align: right;\n",
       "    }\n",
       "</style>\n",
       "<table border=\"1\" class=\"dataframe\">\n",
       "  <thead>\n",
       "    <tr style=\"text-align: right;\">\n",
       "      <th></th>\n",
       "      <th>Review_Scores</th>\n",
       "      <th>Summary_Scores</th>\n",
       "      <th>Total_scores</th>\n",
       "    </tr>\n",
       "  </thead>\n",
       "  <tbody>\n",
       "    <tr>\n",
       "      <th>NB</th>\n",
       "      <td>0.649979</td>\n",
       "      <td>0.612599</td>\n",
       "      <td>0.451159</td>\n",
       "    </tr>\n",
       "    <tr>\n",
       "      <th>RF</th>\n",
       "      <td>0.668417</td>\n",
       "      <td>0.590886</td>\n",
       "      <td>0.651031</td>\n",
       "    </tr>\n",
       "    <tr>\n",
       "      <th>SGDC</th>\n",
       "      <td>0.531218</td>\n",
       "      <td>0.563519</td>\n",
       "      <td>0.531218</td>\n",
       "    </tr>\n",
       "    <tr>\n",
       "      <th>Log_Reg</th>\n",
       "      <td>0.523929</td>\n",
       "      <td>0.565899</td>\n",
       "      <td>0.523929</td>\n",
       "    </tr>\n",
       "  </tbody>\n",
       "</table>\n",
       "</div>"
      ],
      "text/plain": [
       "         Review_Scores  Summary_Scores  Total_scores\n",
       "NB            0.649979        0.612599      0.451159\n",
       "RF            0.668417        0.590886      0.651031\n",
       "SGDC          0.531218        0.563519      0.531218\n",
       "Log_Reg       0.523929        0.565899      0.523929"
      ]
     },
     "execution_count": 1353,
     "metadata": {},
     "output_type": "execute_result"
    }
   ],
   "source": [
    "f1_scores_df = pd.DataFrame(index = f1_scores_models, data = d)\n",
    "f1_scores_df"
   ]
  },
  {
   "cell_type": "markdown",
   "metadata": {},
   "source": [
    "We see that a random forest model that just uses the reviews yields the highest f1 score of .668."
   ]
  },
  {
   "cell_type": "code",
   "execution_count": 1410,
   "metadata": {
    "scrolled": true
   },
   "outputs": [],
   "source": [
    "#CR for categorical reviews\n",
    "#This loop works the same as the previous loops which optimize the RF model for f1 scores with threshold of 0.3\n",
    "#Difference is that this loop is for an ensemble model trained on specific categories\n",
    "#Also uses a generic model to predict on category specific data\n",
    "overall_true_cat = []\n",
    "overall_pred_cat = []\n",
    "overall_pred_gen = []\n",
    "\n",
    "cat_results = []\n",
    "gen_cat_results = []\n",
    "category = []\n",
    "\n",
    "for i in categories:\n",
    "    df_train = training_set_df[training_set_df['category'] == i]\n",
    "    df_test = test_set_df[test_set_df['category'] == i]\n",
    "    \n",
    "    clf_rf_CV_cat = GridSearchCV(clf_rf, param_grid_rf, cv = 5).fit(x[df_train.index], y[df_train.index])\n",
    "    \n",
    "    proba = pd.DataFrame(clf_rf_CV_cat.predict_proba(x[df_test.index]))[1] > 0.3\n",
    "    proba_gen = pd.DataFrame(clf_rf_CV.predict_proba(x[df_test.index]))[1] > 0.3\n",
    "    \n",
    "    __ = []\n",
    "    __g = []\n",
    "    \n",
    "    for j in proba:\n",
    "        if j == True:\n",
    "            k = 'yes'\n",
    "        else:\n",
    "            k = 'no'\n",
    "        __.append(k)    #List of predicted values of y from category specific model \n",
    "        \n",
    "    for l in proba_gen:\n",
    "        if l == True:\n",
    "            r = 'yes'\n",
    "        else:\n",
    "            r = 'no'\n",
    "        __g.append(r) #List of predicted values of y from generalized model\n",
    "            \n",
    "    score = f1_score(list(y[df_test.index]), __, average = 'macro')\n",
    "    gen_score = f1_score(list(y[df_test.index]), __g, average = 'macro')\n",
    "                         \n",
    "    overall_pred_cat.append(__)\n",
    "    overall_pred_gen.append(__g)\n",
    "    overall_true_cat.append(y[df_test.index])\n",
    "                         \n",
    "    cat_results.append(score)\n",
    "    gen_cat_results.append(gen_score)             \n",
    "    category.append(i)"
   ]
  },
  {
   "cell_type": "code",
   "execution_count": 1437,
   "metadata": {},
   "outputs": [
    {
     "data": {
      "text/html": [
       "<div>\n",
       "<style scoped>\n",
       "    .dataframe tbody tr th:only-of-type {\n",
       "        vertical-align: middle;\n",
       "    }\n",
       "\n",
       "    .dataframe tbody tr th {\n",
       "        vertical-align: top;\n",
       "    }\n",
       "\n",
       "    .dataframe thead th {\n",
       "        text-align: right;\n",
       "    }\n",
       "</style>\n",
       "<table border=\"1\" class=\"dataframe\">\n",
       "  <thead>\n",
       "    <tr style=\"text-align: right;\">\n",
       "      <th></th>\n",
       "      <th>category</th>\n",
       "      <th>category_specific</th>\n",
       "      <th>generic</th>\n",
       "    </tr>\n",
       "  </thead>\n",
       "  <tbody>\n",
       "    <tr>\n",
       "      <th>0</th>\n",
       "      <td>office_products</td>\n",
       "      <td>0.599596</td>\n",
       "      <td>0.617719</td>\n",
       "    </tr>\n",
       "    <tr>\n",
       "      <th>1</th>\n",
       "      <td>toys</td>\n",
       "      <td>0.591861</td>\n",
       "      <td>0.639055</td>\n",
       "    </tr>\n",
       "    <tr>\n",
       "      <th>2</th>\n",
       "      <td>amazon_fashion</td>\n",
       "      <td>0.527179</td>\n",
       "      <td>0.584936</td>\n",
       "    </tr>\n",
       "    <tr>\n",
       "      <th>3</th>\n",
       "      <td>video_games</td>\n",
       "      <td>0.685761</td>\n",
       "      <td>0.692331</td>\n",
       "    </tr>\n",
       "    <tr>\n",
       "      <th>4</th>\n",
       "      <td>pet_supplies</td>\n",
       "      <td>0.597508</td>\n",
       "      <td>0.626997</td>\n",
       "    </tr>\n",
       "    <tr>\n",
       "      <th>5</th>\n",
       "      <td>all_beauty</td>\n",
       "      <td>0.584817</td>\n",
       "      <td>0.601474</td>\n",
       "    </tr>\n",
       "    <tr>\n",
       "      <th>6</th>\n",
       "      <td>automotive</td>\n",
       "      <td>0.590505</td>\n",
       "      <td>0.612326</td>\n",
       "    </tr>\n",
       "    <tr>\n",
       "      <th>7</th>\n",
       "      <td>tools</td>\n",
       "      <td>0.607845</td>\n",
       "      <td>0.626624</td>\n",
       "    </tr>\n",
       "    <tr>\n",
       "      <th>8</th>\n",
       "      <td>movies</td>\n",
       "      <td>0.712731</td>\n",
       "      <td>0.693148</td>\n",
       "    </tr>\n",
       "    <tr>\n",
       "      <th>9</th>\n",
       "      <td>music</td>\n",
       "      <td>0.661414</td>\n",
       "      <td>0.666858</td>\n",
       "    </tr>\n",
       "    <tr>\n",
       "      <th>10</th>\n",
       "      <td>grocery</td>\n",
       "      <td>0.590846</td>\n",
       "      <td>0.603313</td>\n",
       "    </tr>\n",
       "    <tr>\n",
       "      <th>11</th>\n",
       "      <td>kindle</td>\n",
       "      <td>0.516871</td>\n",
       "      <td>0.563855</td>\n",
       "    </tr>\n",
       "    <tr>\n",
       "      <th>12</th>\n",
       "      <td>software</td>\n",
       "      <td>0.677868</td>\n",
       "      <td>0.688860</td>\n",
       "    </tr>\n",
       "    <tr>\n",
       "      <th>13</th>\n",
       "      <td>musical_instruments</td>\n",
       "      <td>0.660593</td>\n",
       "      <td>0.661102</td>\n",
       "    </tr>\n",
       "    <tr>\n",
       "      <th>14</th>\n",
       "      <td>luxury_beauty</td>\n",
       "      <td>0.605751</td>\n",
       "      <td>0.598231</td>\n",
       "    </tr>\n",
       "    <tr>\n",
       "      <th>15</th>\n",
       "      <td>appliances</td>\n",
       "      <td>0.712780</td>\n",
       "      <td>0.693046</td>\n",
       "    </tr>\n",
       "    <tr>\n",
       "      <th>16</th>\n",
       "      <td>arts_crafts</td>\n",
       "      <td>0.703600</td>\n",
       "      <td>0.708822</td>\n",
       "    </tr>\n",
       "    <tr>\n",
       "      <th>17</th>\n",
       "      <td>industrial</td>\n",
       "      <td>0.603840</td>\n",
       "      <td>0.628368</td>\n",
       "    </tr>\n",
       "    <tr>\n",
       "      <th>18</th>\n",
       "      <td>prime_pantry</td>\n",
       "      <td>0.569972</td>\n",
       "      <td>0.593354</td>\n",
       "    </tr>\n",
       "    <tr>\n",
       "      <th>19</th>\n",
       "      <td>patio</td>\n",
       "      <td>0.639369</td>\n",
       "      <td>0.628803</td>\n",
       "    </tr>\n",
       "    <tr>\n",
       "      <th>20</th>\n",
       "      <td>cds_and_vinyl</td>\n",
       "      <td>0.725741</td>\n",
       "      <td>0.732843</td>\n",
       "    </tr>\n",
       "  </tbody>\n",
       "</table>\n",
       "</div>"
      ],
      "text/plain": [
       "               category  category_specific   generic\n",
       "0       office_products           0.599596  0.617719\n",
       "1                  toys           0.591861  0.639055\n",
       "2        amazon_fashion           0.527179  0.584936\n",
       "3           video_games           0.685761  0.692331\n",
       "4          pet_supplies           0.597508  0.626997\n",
       "5            all_beauty           0.584817  0.601474\n",
       "6            automotive           0.590505  0.612326\n",
       "7                 tools           0.607845  0.626624\n",
       "8                movies           0.712731  0.693148\n",
       "9                 music           0.661414  0.666858\n",
       "10              grocery           0.590846  0.603313\n",
       "11               kindle           0.516871  0.563855\n",
       "12             software           0.677868  0.688860\n",
       "13  musical_instruments           0.660593  0.661102\n",
       "14        luxury_beauty           0.605751  0.598231\n",
       "15           appliances           0.712780  0.693046\n",
       "16          arts_crafts           0.703600  0.708822\n",
       "17           industrial           0.603840  0.628368\n",
       "18         prime_pantry           0.569972  0.593354\n",
       "19                patio           0.639369  0.628803\n",
       "20        cds_and_vinyl           0.725741  0.732843"
      ]
     },
     "execution_count": 1437,
     "metadata": {},
     "output_type": "execute_result"
    }
   ],
   "source": [
    "d_ = {'category': category, 'category_specific': cat_results, 'generic': gen_cat_results}\n",
    "category_specific_f1 = pd.DataFrame(d_)\n",
    "category_specific_f1"
   ]
  },
  {
   "cell_type": "code",
   "execution_count": 1443,
   "metadata": {},
   "outputs": [
    {
     "data": {
      "text/plain": [
       "False    17\n",
       "True      4\n",
       "dtype: int64"
      ]
     },
     "execution_count": 1443,
     "metadata": {},
     "output_type": "execute_result"
    }
   ],
   "source": [
    "(category_specific_f1['category_specific'] > category_specific_f1['generic']).value_counts()"
   ]
  },
  {
   "cell_type": "markdown",
   "metadata": {},
   "source": [
    "Our category specific model only outperforms the predictions made by the generic model in 4 categories. "
   ]
  },
  {
   "cell_type": "code",
   "execution_count": 1438,
   "metadata": {},
   "outputs": [],
   "source": [
    "f1_T = []\n",
    "for i in range(0, len(overall_true_cat)): #Concatenating True values of Y\n",
    "    f1_T = f1_T + list(overall_true_cat[i])\n",
    "\n",
    "f1_P_cat = []\n",
    "for i in range(0, len(overall_pred_cat)):\n",
    "    f1_P_cat = f1_P_cat + list(overall_pred_cat[i]) #Concatenating Predicted values from Category Specific Model\n",
    "    \n",
    "f1_P_gen = []\n",
    "for i in range(0, len(overall_pred_gen)):m\n",
    "    f1_P_gen = f1_P_gen + list(overall_pred_gen[i]) #Concatenating Predicted values from Generalized Model"
   ]
  },
  {
   "cell_type": "code",
   "execution_count": 1436,
   "metadata": {},
   "outputs": [
    {
     "data": {
      "text/plain": [
       "0.6758373425197983"
      ]
     },
     "execution_count": 1436,
     "metadata": {},
     "output_type": "execute_result"
    }
   ],
   "source": [
    "f1_score(f1_T, f1_P_cat, average = 'macro')"
   ]
  },
  {
   "cell_type": "code",
   "execution_count": 1441,
   "metadata": {},
   "outputs": [
    {
     "data": {
      "text/plain": [
       "0.6684169363483298"
      ]
     },
     "execution_count": 1441,
     "metadata": {},
     "output_type": "execute_result"
    }
   ],
   "source": [
    "f1_score(f1_T, f1_P_gen, average = 'macro')"
   ]
  },
  {
   "cell_type": "markdown",
   "metadata": {},
   "source": [
    "We see that a random forest model that is trained on category specific data outperforms all the other models with an f1 score of 0.676."
   ]
  },
  {
   "cell_type": "code",
   "execution_count": 1444,
   "metadata": {},
   "outputs": [],
   "source": [
    "import matplotlib.pyplot as plt"
   ]
  },
  {
   "cell_type": "code",
   "execution_count": 1454,
   "metadata": {},
   "outputs": [
    {
     "data": {
      "image/png": "[encoded data removed]",
      "text/plain": [
       "<Figure size 432x288 with 1 Axes>"
      ]
     },
     "metadata": {
      "needs_background": "light"
     },
     "output_type": "display_data"
    }
   ],
   "source": [
    "#Plotting RF F1 scores by discrimination threshold\n",
    "plt.scatter(thresh_list,f1_score_rev_RF)\n",
    "plt.xlabel('Discrimination Threshold')\n",
    "plt.ylabel('F1 Score')\n",
    "plt.title('Random Forest F1 Scores by Discrimination Threshold')\n",
    "plt.show()"
   ]
  }
 ],
 "metadata": {
  "kernelspec": {
   "display_name": "Python 3",
   "language": "python",
   "name": "python3"
  },
  "language_info": {
   "codemirror_mode": {
    "name": "ipython",
    "version": 3
   },
   "file_extension": ".py",
   "mimetype": "text/x-python",
   "name": "python",
   "nbconvert_exporter": "python",
   "pygments_lexer": "ipython3",
   "version": "3.7.3"
  }
 },
 "nbformat": 4,
 "nbformat_minor": 2
}
